{
 "metadata": {
  "language_info": {
   "codemirror_mode": {
    "name": "ipython",
    "version": 3
   },
   "file_extension": ".py",
   "mimetype": "text/x-python",
   "name": "python",
   "nbconvert_exporter": "python",
   "pygments_lexer": "ipython3",
   "version": "3.7.9-final"
  },
  "orig_nbformat": 2,
  "kernelspec": {
   "name": "python3",
   "display_name": "Python 3",
   "language": "python"
  }
 },
 "nbformat": 4,
 "nbformat_minor": 2,
 "cells": [
  {
   "cell_type": "code",
   "execution_count": 1,
   "metadata": {},
   "outputs": [],
   "source": [
    "import pandas as pd \n",
    "import numpy as np \n",
    "import matplotlib.pyplot as plt "
   ]
  },
  {
   "cell_type": "code",
   "execution_count": 2,
   "metadata": {},
   "outputs": [],
   "source": [
    "df = pd.read_csv(r'data/used_car_dataset.csv')"
   ]
  },
  {
   "cell_type": "code",
   "execution_count": 4,
   "metadata": {},
   "outputs": [
    {
     "output_type": "stream",
     "name": "stdout",
     "text": [
      "(9997, 14)\n"
     ]
    }
   ],
   "source": [
    "print(df.shape)"
   ]
  },
  {
   "cell_type": "code",
   "execution_count": 5,
   "metadata": {},
   "outputs": [
    {
     "output_type": "execute_result",
     "data": {
      "text/plain": [
       "     price    year manufacturer  condition    cylinders fuel  odometer  \\\n",
       "0  21978.0  2016.0         ford   like new  6 cylinders  gas   80813.0   \n",
       "1   4185.0  2008.0         ford       good  8 cylinders  gas  201800.0   \n",
       "2   7693.0  2002.0         ford  excellent  6 cylinders  gas  145000.0   \n",
       "3  15778.0  2016.0         ford  excellent  4 cylinders  gas   50103.0   \n",
       "4  10520.0  2005.0         ford       good  8 cylinders  gas  207663.0   \n",
       "\n",
       "  transmission    type paint_color    F1        F2        F3 F4  \n",
       "0    automatic     SUV       black   138  2.472286  0.059031  b  \n",
       "1    automatic     SUV       white   415  2.285245  0.046328  c  \n",
       "2    automatic  pickup       white   535  1.861461  0.158554  b  \n",
       "3    automatic   sedan       white  3435  2.331671  0.213665  c  \n",
       "4    automatic   truck       white  1212  2.061082  0.388724  b  "
      ],
      "text/html": "<div>\n<style scoped>\n    .dataframe tbody tr th:only-of-type {\n        vertical-align: middle;\n    }\n\n    .dataframe tbody tr th {\n        vertical-align: top;\n    }\n\n    .dataframe thead th {\n        text-align: right;\n    }\n</style>\n<table border=\"1\" class=\"dataframe\">\n  <thead>\n    <tr style=\"text-align: right;\">\n      <th></th>\n      <th>price</th>\n      <th>year</th>\n      <th>manufacturer</th>\n      <th>condition</th>\n      <th>cylinders</th>\n      <th>fuel</th>\n      <th>odometer</th>\n      <th>transmission</th>\n      <th>type</th>\n      <th>paint_color</th>\n      <th>F1</th>\n      <th>F2</th>\n      <th>F3</th>\n      <th>F4</th>\n    </tr>\n  </thead>\n  <tbody>\n    <tr>\n      <th>0</th>\n      <td>21978.0</td>\n      <td>2016.0</td>\n      <td>ford</td>\n      <td>like new</td>\n      <td>6 cylinders</td>\n      <td>gas</td>\n      <td>80813.0</td>\n      <td>automatic</td>\n      <td>SUV</td>\n      <td>black</td>\n      <td>138</td>\n      <td>2.472286</td>\n      <td>0.059031</td>\n      <td>b</td>\n    </tr>\n    <tr>\n      <th>1</th>\n      <td>4185.0</td>\n      <td>2008.0</td>\n      <td>ford</td>\n      <td>good</td>\n      <td>8 cylinders</td>\n      <td>gas</td>\n      <td>201800.0</td>\n      <td>automatic</td>\n      <td>SUV</td>\n      <td>white</td>\n      <td>415</td>\n      <td>2.285245</td>\n      <td>0.046328</td>\n      <td>c</td>\n    </tr>\n    <tr>\n      <th>2</th>\n      <td>7693.0</td>\n      <td>2002.0</td>\n      <td>ford</td>\n      <td>excellent</td>\n      <td>6 cylinders</td>\n      <td>gas</td>\n      <td>145000.0</td>\n      <td>automatic</td>\n      <td>pickup</td>\n      <td>white</td>\n      <td>535</td>\n      <td>1.861461</td>\n      <td>0.158554</td>\n      <td>b</td>\n    </tr>\n    <tr>\n      <th>3</th>\n      <td>15778.0</td>\n      <td>2016.0</td>\n      <td>ford</td>\n      <td>excellent</td>\n      <td>4 cylinders</td>\n      <td>gas</td>\n      <td>50103.0</td>\n      <td>automatic</td>\n      <td>sedan</td>\n      <td>white</td>\n      <td>3435</td>\n      <td>2.331671</td>\n      <td>0.213665</td>\n      <td>c</td>\n    </tr>\n    <tr>\n      <th>4</th>\n      <td>10520.0</td>\n      <td>2005.0</td>\n      <td>ford</td>\n      <td>good</td>\n      <td>8 cylinders</td>\n      <td>gas</td>\n      <td>207663.0</td>\n      <td>automatic</td>\n      <td>truck</td>\n      <td>white</td>\n      <td>1212</td>\n      <td>2.061082</td>\n      <td>0.388724</td>\n      <td>b</td>\n    </tr>\n  </tbody>\n</table>\n</div>"
     },
     "metadata": {},
     "execution_count": 5
    }
   ],
   "source": [
    "df.head()"
   ]
  },
  {
   "cell_type": "code",
   "execution_count": 6,
   "metadata": {},
   "outputs": [
    {
     "output_type": "execute_result",
     "data": {
      "text/plain": [
       "               price         year      odometer            F1           F2  \\\n",
       "count    9997.000000  9997.000000  9.305000e+03   9997.000000  9997.000000   \n",
       "mean    14233.961989  2009.817345  1.139147e+05   1534.257377     2.224515   \n",
       "std     12595.955311     8.847370  1.306907e+05   2138.048191     0.226997   \n",
       "min         0.000000  1922.000000  0.000000e+00      4.000000     0.167352   \n",
       "25%      5594.000000  2007.000000  6.702100e+04    308.000000     2.131407   \n",
       "50%     10333.000000  2012.000000  1.110000e+05    698.000000     2.255297   \n",
       "75%     19389.000000  2015.000000  1.512140e+05   2013.000000     2.361656   \n",
       "max    402498.000000  2021.000000  9.999999e+06  36773.000000     2.728576   \n",
       "\n",
       "                F3  \n",
       "count  9997.000000  \n",
       "mean      0.100247  \n",
       "std       0.100804  \n",
       "min      -0.313948  \n",
       "25%       0.030308  \n",
       "50%       0.101295  \n",
       "75%       0.167654  \n",
       "max       0.526848  "
      ],
      "text/html": "<div>\n<style scoped>\n    .dataframe tbody tr th:only-of-type {\n        vertical-align: middle;\n    }\n\n    .dataframe tbody tr th {\n        vertical-align: top;\n    }\n\n    .dataframe thead th {\n        text-align: right;\n    }\n</style>\n<table border=\"1\" class=\"dataframe\">\n  <thead>\n    <tr style=\"text-align: right;\">\n      <th></th>\n      <th>price</th>\n      <th>year</th>\n      <th>odometer</th>\n      <th>F1</th>\n      <th>F2</th>\n      <th>F3</th>\n    </tr>\n  </thead>\n  <tbody>\n    <tr>\n      <th>count</th>\n      <td>9997.000000</td>\n      <td>9997.000000</td>\n      <td>9.305000e+03</td>\n      <td>9997.000000</td>\n      <td>9997.000000</td>\n      <td>9997.000000</td>\n    </tr>\n    <tr>\n      <th>mean</th>\n      <td>14233.961989</td>\n      <td>2009.817345</td>\n      <td>1.139147e+05</td>\n      <td>1534.257377</td>\n      <td>2.224515</td>\n      <td>0.100247</td>\n    </tr>\n    <tr>\n      <th>std</th>\n      <td>12595.955311</td>\n      <td>8.847370</td>\n      <td>1.306907e+05</td>\n      <td>2138.048191</td>\n      <td>0.226997</td>\n      <td>0.100804</td>\n    </tr>\n    <tr>\n      <th>min</th>\n      <td>0.000000</td>\n      <td>1922.000000</td>\n      <td>0.000000e+00</td>\n      <td>4.000000</td>\n      <td>0.167352</td>\n      <td>-0.313948</td>\n    </tr>\n    <tr>\n      <th>25%</th>\n      <td>5594.000000</td>\n      <td>2007.000000</td>\n      <td>6.702100e+04</td>\n      <td>308.000000</td>\n      <td>2.131407</td>\n      <td>0.030308</td>\n    </tr>\n    <tr>\n      <th>50%</th>\n      <td>10333.000000</td>\n      <td>2012.000000</td>\n      <td>1.110000e+05</td>\n      <td>698.000000</td>\n      <td>2.255297</td>\n      <td>0.101295</td>\n    </tr>\n    <tr>\n      <th>75%</th>\n      <td>19389.000000</td>\n      <td>2015.000000</td>\n      <td>1.512140e+05</td>\n      <td>2013.000000</td>\n      <td>2.361656</td>\n      <td>0.167654</td>\n    </tr>\n    <tr>\n      <th>max</th>\n      <td>402498.000000</td>\n      <td>2021.000000</td>\n      <td>9.999999e+06</td>\n      <td>36773.000000</td>\n      <td>2.728576</td>\n      <td>0.526848</td>\n    </tr>\n  </tbody>\n</table>\n</div>"
     },
     "metadata": {},
     "execution_count": 6
    }
   ],
   "source": [
    "df.describe()"
   ]
  },
  {
   "cell_type": "code",
   "execution_count": 7,
   "metadata": {},
   "outputs": [
    {
     "output_type": "stream",
     "name": "stdout",
     "text": [
      "<class 'pandas.core.frame.DataFrame'>\nRangeIndex: 9997 entries, 0 to 9996\nData columns (total 14 columns):\n #   Column        Non-Null Count  Dtype  \n---  ------        --------------  -----  \n 0   price         9997 non-null   float64\n 1   year          9997 non-null   float64\n 2   manufacturer  9997 non-null   object \n 3   condition     9997 non-null   object \n 4   cylinders     9997 non-null   object \n 5   fuel          9997 non-null   object \n 6   odometer      9305 non-null   float64\n 7   transmission  9997 non-null   object \n 8   type          9997 non-null   object \n 9   paint_color   9997 non-null   object \n 10  F1            9997 non-null   int64  \n 11  F2            9997 non-null   float64\n 12  F3            9997 non-null   float64\n 13  F4            9997 non-null   object \ndtypes: float64(5), int64(1), object(8)\nmemory usage: 1.1+ MB\n"
     ]
    }
   ],
   "source": [
    "df.info()"
   ]
  },
  {
   "cell_type": "code",
   "execution_count": null,
   "metadata": {},
   "outputs": [],
   "source": []
  }
 ]
}