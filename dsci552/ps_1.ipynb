{
add "metadata": {
  "language_info": {
   "codemirror_mode": {
    "name": "ipython",
    "version": 3
   },
   "file_extension": ".py",
   "mimetype": "text/x-python",
   "name": "python",
   "nbconvert_exporter": "python",
   "pygments_lexer": "ipython3",
   "version": "3.7.9-final"
  },
  "orig_nbformat": 2,
  "kernelspec": {
   "name": "python3",
   "display_name": "Python 3",
   "language": "python"
  }
 },
 "nbformat": 4,
 "nbformat_minor": 2,
 "cells": [
  {
   "source": [
    "## DSCI 552 PS 1 - Used Car Dataset"
   ],
   "cell_type": "markdown",
   "metadata": {}
  },
  {
   "cell_type": "code",
   "execution_count": 1,
   "metadata": {},
   "outputs": [],
   "source": [
    "## data preparation and analysis\n",
    "import pandas as pd \n",
    "from pandas.plotting import scatter_matrix\n",
    "import numpy as np \n",
    "import matplotlib.pyplot as plt \n",
    "import seaborn as sns\n",
    "import scipy as sp \n",
    "import statsmodels.api as sm\n",
    "from statsmodels.stats.outliers_influence import variance_inflation_factor\n",
    "\n",
    "from sklearn.pipeline import Pipeline, TransformerMixin\n",
    "from sklearn.impute import SimpleImputer\n",
    "from sklearn.preprocessing import StandardScaler, MinMaxScaler\n",
    "from sklearn.compose import ColumnTransformer\n",
    "from sklearn.preprocessing import OneHotEncoder\n",
    "\n",
    "## modeling\n",
    "from sklearn.model_selection import train_test_split, cross_val_score\n",
    "from sklearn.linear_model import LinearRegression, Ridge, Lasso, ElasticNet, LassoLars\n",
    "from sklearn.ensemble import GradientBoostingRegressor\n",
    "from sklearn.ensemble import RandomForestRegressor\n",
    "from sklearn.ensemble import VotingRegressor\n",
    "from sklearn.metrics import mean_squared_error, r2_score"
   ]
  },
  {
   "cell_type": "code",
   "execution_count": 2,
   "metadata": {},
   "outputs": [
    {
     "output_type": "stream",
     "name": "stdout",
     "text": [
      "(9997, 14)\n"
     ]
    }
   ],
   "source": [
    "df = pd.read_csv(r'data/used_car_dataset.csv')\n",
    "print(df.shape)"
   ]
  },
  {
   "cell_type": "code",
   "execution_count": 3,
   "metadata": {},
   "outputs": [
    {
     "output_type": "execute_result",
     "data": {
      "text/plain": [
       "     price    year manufacturer  condition    cylinders fuel  odometer  \\\n",
       "0  21978.0  2016.0         ford   like new  6 cylinders  gas   80813.0   \n",
       "1   4185.0  2008.0         ford       good  8 cylinders  gas  201800.0   \n",
       "2   7693.0  2002.0         ford  excellent  6 cylinders  gas  145000.0   \n",
       "3  15778.0  2016.0         ford  excellent  4 cylinders  gas   50103.0   \n",
       "4  10520.0  2005.0         ford       good  8 cylinders  gas  207663.0   \n",
       "\n",
       "  transmission    type paint_color    F1        F2        F3 F4  \n",
       "0    automatic     SUV       black   138  2.472286  0.059031  b  \n",
       "1    automatic     SUV       white   415  2.285245  0.046328  c  \n",
       "2    automatic  pickup       white   535  1.861461  0.158554  b  \n",
       "3    automatic   sedan       white  3435  2.331671  0.213665  c  \n",
       "4    automatic   truck       white  1212  2.061082  0.388724  b  "
      ],
      "text/html": "<div>\n<style scoped>\n    .dataframe tbody tr th:only-of-type {\n        vertical-align: middle;\n    }\n\n    .dataframe tbody tr th {\n        vertical-align: top;\n    }\n\n    .dataframe thead th {\n        text-align: right;\n    }\n</style>\n<table border=\"1\" class=\"dataframe\">\n  <thead>\n    <tr style=\"text-align: right;\">\n      <th></th>\n      <th>price</th>\n      <th>year</th>\n      <th>manufacturer</th>\n      <th>condition</th>\n      <th>cylinders</th>\n      <th>fuel</th>\n      <th>odometer</th>\n      <th>transmission</th>\n      <th>type</th>\n      <th>paint_color</th>\n      <th>F1</th>\n      <th>F2</th>\n      <th>F3</th>\n      <th>F4</th>\n    </tr>\n  </thead>\n  <tbody>\n    <tr>\n      <th>0</th>\n      <td>21978.0</td>\n      <td>2016.0</td>\n      <td>ford</td>\n      <td>like new</td>\n      <td>6 cylinders</td>\n      <td>gas</td>\n      <td>80813.0</td>\n      <td>automatic</td>\n      <td>SUV</td>\n      <td>black</td>\n      <td>138</td>\n      <td>2.472286</td>\n      <td>0.059031</td>\n      <td>b</td>\n    </tr>\n    <tr>\n      <th>1</th>\n      <td>4185.0</td>\n      <td>2008.0</td>\n      <td>ford</td>\n      <td>good</td>\n      <td>8 cylinders</td>\n      <td>gas</td>\n      <td>201800.0</td>\n      <td>automatic</td>\n      <td>SUV</td>\n      <td>white</td>\n      <td>415</td>\n      <td>2.285245</td>\n      <td>0.046328</td>\n      <td>c</td>\n    </tr>\n    <tr>\n      <th>2</th>\n      <td>7693.0</td>\n      <td>2002.0</td>\n      <td>ford</td>\n      <td>excellent</td>\n      <td>6 cylinders</td>\n      <td>gas</td>\n      <td>145000.0</td>\n      <td>automatic</td>\n      <td>pickup</td>\n      <td>white</td>\n      <td>535</td>\n      <td>1.861461</td>\n      <td>0.158554</td>\n      <td>b</td>\n    </tr>\n    <tr>\n      <th>3</th>\n      <td>15778.0</td>\n      <td>2016.0</td>\n      <td>ford</td>\n      <td>excellent</td>\n      <td>4 cylinders</td>\n      <td>gas</td>\n      <td>50103.0</td>\n      <td>automatic</td>\n      <td>sedan</td>\n      <td>white</td>\n      <td>3435</td>\n      <td>2.331671</td>\n      <td>0.213665</td>\n      <td>c</td>\n    </tr>\n    <tr>\n      <th>4</th>\n      <td>10520.0</td>\n      <td>2005.0</td>\n      <td>ford</td>\n      <td>good</td>\n      <td>8 cylinders</td>\n      <td>gas</td>\n      <td>207663.0</td>\n      <td>automatic</td>\n      <td>truck</td>\n      <td>white</td>\n      <td>1212</td>\n      <td>2.061082</td>\n      <td>0.388724</td>\n      <td>b</td>\n    </tr>\n  </tbody>\n</table>\n</div>"
     },
     "metadata": {},
     "execution_count": 3
    }
   ],
   "source": [
    "df.head()"
   ]
  },
  {
   "cell_type": "code",
   "execution_count": 4,
   "metadata": {},
   "outputs": [
    {
     "output_type": "execute_result",
     "data": {
      "text/plain": [
       "               price         year      odometer            F1           F2  \\\n",
       "count    9997.000000  9997.000000  9.305000e+03   9997.000000  9997.000000   \n",
       "mean    14233.961989  2009.817345  1.139147e+05   1534.257377     2.224515   \n",
       "std     12595.955311     8.847370  1.306907e+05   2138.048191     0.226997   \n",
       "min         0.000000  1922.000000  0.000000e+00      4.000000     0.167352   \n",
       "25%      5594.000000  2007.000000  6.702100e+04    308.000000     2.131407   \n",
       "50%     10333.000000  2012.000000  1.110000e+05    698.000000     2.255297   \n",
       "75%     19389.000000  2015.000000  1.512140e+05   2013.000000     2.361656   \n",
       "max    402498.000000  2021.000000  9.999999e+06  36773.000000     2.728576   \n",
       "\n",
       "                F3  \n",
       "count  9997.000000  \n",
       "mean      0.100247  \n",
       "std       0.100804  \n",
       "min      -0.313948  \n",
       "25%       0.030308  \n",
       "50%       0.101295  \n",
       "75%       0.167654  \n",
       "max       0.526848  "
      ],
      "text/html": "<div>\n<style scoped>\n    .dataframe tbody tr th:only-of-type {\n        vertical-align: middle;\n    }\n\n    .dataframe tbody tr th {\n        vertical-align: top;\n    }\n\n    .dataframe thead th {\n        text-align: right;\n    }\n</style>\n<table border=\"1\" class=\"dataframe\">\n  <thead>\n    <tr style=\"text-align: right;\">\n      <th></th>\n      <th>price</th>\n      <th>year</th>\n      <th>odometer</th>\n      <th>F1</th>\n      <th>F2</th>\n      <th>F3</th>\n    </tr>\n  </thead>\n  <tbody>\n    <tr>\n      <th>count</th>\n      <td>9997.000000</td>\n      <td>9997.000000</td>\n      <td>9.305000e+03</td>\n      <td>9997.000000</td>\n      <td>9997.000000</td>\n      <td>9997.000000</td>\n    </tr>\n    <tr>\n      <th>mean</th>\n      <td>14233.961989</td>\n      <td>2009.817345</td>\n      <td>1.139147e+05</td>\n      <td>1534.257377</td>\n      <td>2.224515</td>\n      <td>0.100247</td>\n    </tr>\n    <tr>\n      <th>std</th>\n      <td>12595.955311</td>\n      <td>8.847370</td>\n      <td>1.306907e+05</td>\n      <td>2138.048191</td>\n      <td>0.226997</td>\n      <td>0.100804</td>\n    </tr>\n    <tr>\n      <th>min</th>\n      <td>0.000000</td>\n      <td>1922.000000</td>\n      <td>0.000000e+00</td>\n      <td>4.000000</td>\n      <td>0.167352</td>\n      <td>-0.313948</td>\n    </tr>\n    <tr>\n      <th>25%</th>\n      <td>5594.000000</td>\n      <td>2007.000000</td>\n      <td>6.702100e+04</td>\n      <td>308.000000</td>\n      <td>2.131407</td>\n      <td>0.030308</td>\n    </tr>\n    <tr>\n      <th>50%</th>\n      <td>10333.000000</td>\n      <td>2012.000000</td>\n      <td>1.110000e+05</td>\n      <td>698.000000</td>\n      <td>2.255297</td>\n      <td>0.101295</td>\n    </tr>\n    <tr>\n      <th>75%</th>\n      <td>19389.000000</td>\n      <td>2015.000000</td>\n      <td>1.512140e+05</td>\n      <td>2013.000000</td>\n      <td>2.361656</td>\n      <td>0.167654</td>\n    </tr>\n    <tr>\n      <th>max</th>\n      <td>402498.000000</td>\n      <td>2021.000000</td>\n      <td>9.999999e+06</td>\n      <td>36773.000000</td>\n      <td>2.728576</td>\n      <td>0.526848</td>\n    </tr>\n  </tbody>\n</table>\n</div>"
     },
     "metadata": {},
     "execution_count": 4
    }
   ],
   "source": [
    "df.describe()"
   ]
  },
  {
   "cell_type": "code",
   "execution_count": 5,
   "metadata": {},
   "outputs": [
    {
     "output_type": "stream",
     "name": "stdout",
     "text": [
      "<class 'pandas.core.frame.DataFrame'>\nRangeIndex: 9997 entries, 0 to 9996\nData columns (total 14 columns):\n #   Column        Non-Null Count  Dtype  \n---  ------        --------------  -----  \n 0   price         9997 non-null   float64\n 1   year          9997 non-null   float64\n 2   manufacturer  9997 non-null   object \n 3   condition     9997 non-null   object \n 4   cylinders     9997 non-null   object \n 5   fuel          9997 non-null   object \n 6   odometer      9305 non-null   float64\n 7   transmission  9997 non-null   object \n 8   type          9997 non-null   object \n 9   paint_color   9997 non-null   object \n 10  F1            9997 non-null   int64  \n 11  F2            9997 non-null   float64\n 12  F3            9997 non-null   float64\n 13  F4            9997 non-null   object \ndtypes: float64(5), int64(1), object(8)\nmemory usage: 1.1+ MB\n"
     ]
    }
   ],
   "source": [
    "## 14 attributes\n",
    "df.info()"
   ]
  },
  {
   "source": [
    "# EDA / cleaning / transforming step\n",
    "Your CEO said: “The dataset describes conditions of various used cars and their current prices.\n",
    "I would like to learn **what drives prices of used cars**. \n",
    "\n",
    "1. Look at the dataset and find the **main factors**\n",
    "that affect the **value** of a car – and then explain it to me. \n",
    "\n",
    "2. Additionally, assess the **impact** of some special modifications (denoted by **F1, F2, F3 and F4** in your dataset) on the price. This would help us to understand, **if we should make the modifications before selling a car or not**. I would\n",
    "like to see the report, describing your main findings, on my desk, on Thursday, February 11,\n",
    "2021 at 10 A.M. “\n",
    "\n",
    "Hint: You are asked to **find general trends** in the data. Report whatever you think is the most important. Your CEO\n",
    "doesn’t want to see a list that is 20-times long. She would like to learn just about some general trends. To give you\n",
    "an example, one general trend could be “The price decrease with the age of the car. Holding all other factors\n",
    "constant, with each year, the price of a car decreases by \\$570. However, these dynamics are not constant. Value of\n",
    "younger cars decreases faster than the value of an old car. For example, the value of cars that are less than 5 years\n",
    "old, decreases nearly $2,500 per year.” (This is just an example; your numbers might be different). Your second\n",
    "task you have to check both, the **impact** and the **statistical significance** of the **F1-F4 attributes** for making the price predictions.\n",
    "\n"
   ],
   "cell_type": "markdown",
   "metadata": {}
  },
  {
   "cell_type": "code",
   "execution_count": 6,
   "metadata": {},
   "outputs": [],
   "source": [
    "### NOTE:\n",
    "## Due to skewed datasets, we should clean data by:\n",
    "## fill missing vals (median imputation)\n",
    "## scale the datasets (minmaxscaler)\n",
    "## remove outliers\n",
    "## and one-hot encoding for categorical vars (to prep for model)"
   ]
  },
  {
   "cell_type": "code",
   "execution_count": 7,
   "metadata": {},
   "outputs": [
    {
     "output_type": "stream",
     "name": "stdout",
     "text": [
      "There are 8 categorical attributes\n"
     ]
    }
   ],
   "source": [
    "num_cols = df.select_dtypes(include=['float64', 'int64']).columns\n",
    "cat_cols = df.select_dtypes(include=['object']).columns\n",
    "print(f\"There are {len(cat_cols)} categorical attributes\")"
   ]
  },
  {
   "cell_type": "code",
   "execution_count": 8,
   "metadata": {},
   "outputs": [],
   "source": [
    "min_max_scaler = MinMaxScaler()\n",
    "nums_scaled = pd.DataFrame(min_max_scaler.fit_transform(df[num_cols]))\n",
    "nums_scaled.columns = num_cols"
   ]
  },
  {
   "cell_type": "code",
   "execution_count": 9,
   "metadata": {
    "tags": []
   },
   "outputs": [],
   "source": [
    "## Outlier removal: get indicies of outlier locations\n",
    "outlier_locs = []\n",
    "for col in num_cols:\n",
    "    curr = df[col]\n",
    "    mean, std = np.mean(curr), np.std(curr)\n",
    "    cut_off = std * 3\n",
    "    lower, upper = mean - cut_off, mean + cut_off\n",
    "    # print(col, lower, upper)  \n",
    "    for idx, val in curr.items():\n",
    "        if val < lower or val > upper:\n",
    "            outlier_locs.append(idx)"
   ]
  },
  {
   "cell_type": "code",
   "execution_count": 10,
   "metadata": {},
   "outputs": [
    {
     "output_type": "stream",
     "name": "stdout",
     "text": [
      "(9997, 14) (9603, 14)\n"
     ]
    }
   ],
   "source": [
    "outliers = list(set(outlier_locs))\n",
    "## df2 is just df without the outliers\n",
    "df2 = df.drop(df.index[outliers])\n",
    "nums_scaled2 = nums_scaled.drop(nums_scaled.index[outliers])\n",
    "print(df.shape, df2.shape)"
   ]
  },
  {
   "cell_type": "code",
   "execution_count": 11,
   "metadata": {},
   "outputs": [],
   "source": [
    "# ## plot data\n",
    "# df2.hist(bins=50, figsize=(16,8))\n",
    "# plt.savefig('images/hist_1.png')"
   ]
  },
  {
   "cell_type": "code",
   "execution_count": 12,
   "metadata": {},
   "outputs": [],
   "source": [
    "# ## View correlations btwn features\n",
    "## focus on effect on PRICE\n",
    "# plt.figure(figsize=(10,6))\n",
    "# sns.heatmap(df2.corr(), annot=True, cmap=\"hot_r\")\n",
    "# plt.savefig('images/heatmap_1.png')"
   ]
  },
  {
   "cell_type": "code",
   "execution_count": 13,
   "metadata": {},
   "outputs": [],
   "source": [
    "# scatter_matrix(df2[num_cols], figsize=(12,10))\n",
    "# plt.savefig('images/scatter_matrix_num_cols.png')"
   ]
  },
  {
   "cell_type": "code",
   "execution_count": 14,
   "metadata": {},
   "outputs": [],
   "source": [
    "# ## boxplots for numerical vars\n",
    "# fig, axes = plt.subplots(2, 3, sharex = False, figsize=(16,8))\n",
    "# fig.suptitle('Boxplots')\n",
    "\n",
    "# for i, var in enumerate(num_cols):\n",
    "#     if i < 3:\n",
    "#         row = 0\n",
    "#     elif i >= 3: \n",
    "#         row = 1\n",
    "#     col = i % 3\n",
    "#     sns.boxplot(ax=axes[row,col], data=df2, x=var)\n",
    "# plt.savefig('images/boxplots_1.png')"
   ]
  },
  {
   "cell_type": "code",
   "execution_count": 15,
   "metadata": {},
   "outputs": [],
   "source": [
    "# ## Categorical vars and PRICE\n",
    "# fig, axes = plt.subplots(2, 4, sharex = False, figsize=(16,8))\n",
    "# fig.suptitle('Categorical Vars and Price')\n",
    "# for i, var in enumerate(cat_cols):\n",
    "#     if i < 4:\n",
    "#         row = 0\n",
    "#     elif i >= 4: \n",
    "#         row = 1\n",
    "#     col = i % 4\n",
    "#     axes[row][col] = sns.stripplot(x=var, y='price', data=df2, ax=axes[row][col])\n",
    "# fig.tight_layout()\n",
    "# plt.savefig('images/catplots_and_price_1.png')\n"
   ]
  },
  {
   "cell_type": "code",
   "execution_count": null,
   "metadata": {},
   "outputs": [],
   "source": []
  },
  {
   "cell_type": "code",
   "execution_count": 16,
   "metadata": {},
   "outputs": [],
   "source": [
    "## TODO: write about trends btwn price and various features (how they correlate as they go up or down) in the report "
   ]
  },
  {
   "cell_type": "code",
   "execution_count": 17,
   "metadata": {},
   "outputs": [],
   "source": [
    "# plt.figure(figsize=(10,8))\n",
    "# plt.title(\"price vs year\")\n",
    "# sns.scatterplot(x='year', y='price', data=df2)\n",
    "# # plt.scatter(x=df2['year'], y=df2['price'])"
   ]
  },
  {
   "cell_type": "code",
   "execution_count": 18,
   "metadata": {},
   "outputs": [],
   "source": [
    "# plt.figure(figsize=(10,8))\n",
    "# plt.title(\"price vs odometer\")\n",
    "# sns.scatterplot(x='odometer', y='price', data=df2)\n",
    "# # plt.scatter(x=df2['year'], y=df2['price'])"
   ]
  },
  {
   "cell_type": "code",
   "execution_count": null,
   "metadata": {},
   "outputs": [],
   "source": []
  },
  {
   "cell_type": "code",
   "execution_count": null,
   "metadata": {},
   "outputs": [],
   "source": []
  },
  {
   "source": [
    "# Prediction Modeling , Tuning, and Evaluation \n",
    "Your Technical Manager said: “I would like you to propose a **predictive model**, that can be used to determine price of a used car. The problem is that the state-law demands that this model be easily interpretable. It means that we are restricted to use simple methods like **Linear Regression, Ridge Regression, LASSO and Elastic Net**. Additionally, we need to know how **accurate** the model is. You must choose the best model and report its **root mean square error**. Describe everything in your report and I will study it carefully”.\n",
    "Hint: In the most typical approach, you need to build three datasets: **a training set, a validation set and a test set**. You will use **validation set** (for tuning model hyperparameters) to determine the best model; the test set to estimate model accuracy. In your report you should describe how you trained the models, how you selected the best one and how you tested its performance at the end."
   ],
   "cell_type": "markdown",
   "metadata": {}
  },
  {
   "source": [
    "## Transformation Pipeline"
   ],
   "cell_type": "markdown",
   "metadata": {}
  },
  {
   "cell_type": "code",
   "execution_count": 19,
   "metadata": {},
   "outputs": [
    {
     "output_type": "stream",
     "name": "stdout",
     "text": [
      "(9603, 30)\n"
     ]
    }
   ],
   "source": [
    "## TRANSFORM STEP (After outlier removal)\n",
    "## Transforms the dataset to prep for model\n",
    "num_pipeline = Pipeline([\n",
    "    ('imputer', SimpleImputer(strategy='median')),\n",
    "    ('minmaxscaler', MinMaxScaler())\n",
    "])\n",
    "\n",
    "full_pipeline = ColumnTransformer([\n",
    "    (\"numerical\", num_pipeline, num_cols),\n",
    "    (\"categorical\", OneHotEncoder(), cat_cols)\n",
    "])\n",
    "\n",
    "arr_cleaned = full_pipeline.fit_transform(df2)\n",
    "print(arr_cleaned.shape)## After outlier removal"
   ]
  },
  {
   "source": [
    "## Detect multicollinearity btwn predictors\n",
    "## using VIF (variance inflation factor)"
   ],
   "cell_type": "markdown",
   "metadata": {}
  },
  {
   "cell_type": "code",
   "execution_count": 20,
   "metadata": {},
   "outputs": [
    {
     "output_type": "stream",
     "name": "stdout",
     "text": [
      "30\n"
     ]
    }
   ],
   "source": [
    "vifs = [variance_inflation_factor(arr_cleaned, i) for i in range(arr_cleaned.shape[1])]\n",
    "print(len(vifs))\n",
    "## NOTE: any VIF > 4 needs investigation for possible multicollinearity!\n",
    "# vifs"
   ]
  },
  {
   "cell_type": "code",
   "execution_count": 21,
   "metadata": {},
   "outputs": [
    {
     "output_type": "execute_result",
     "data": {
      "text/plain": [
       "[2.5042718969223654,\n",
       " 4.213173994533423,\n",
       " 1.6145039112710033,\n",
       " 1.2003662026959006,\n",
       " 2.8969339932407543,\n",
       " 1.0208677853903496,\n",
       " inf,\n",
       " inf,\n",
       " inf,\n",
       " inf,\n",
       " inf,\n",
       " inf,\n",
       " inf,\n",
       " inf,\n",
       " inf,\n",
       " 0.0,\n",
       " inf,\n",
       " inf,\n",
       " inf,\n",
       " inf,\n",
       " inf,\n",
       " inf,\n",
       " inf,\n",
       " inf,\n",
       " inf,\n",
       " inf,\n",
       " inf,\n",
       " inf,\n",
       " inf,\n",
       " inf]"
      ]
     },
     "metadata": {},
     "execution_count": 21
    }
   ],
   "source": [
    "vifs"
   ]
  },
  {
   "source": [
    "# Modeling"
   ],
   "cell_type": "markdown",
   "metadata": {}
  },
  {
   "cell_type": "code",
   "execution_count": 24,
   "metadata": {},
   "outputs": [
    {
     "output_type": "stream",
     "name": "stdout",
     "text": [
      "(9603, 29) (9603,)\n(7682, 29) (1921, 29)\n"
     ]
    }
   ],
   "source": [
    "## Split in train/test/valid\n",
    "X = arr_cleaned[:,1:]\n",
    "y = arr_cleaned[:,0]  ## price variable\n",
    "print(X.shape, y.shape)\n",
    "X_train, X_test, y_train, y_test = train_test_split(X, y, test_size=0.2, random_state=2021)\n",
    "print(X_train.shape, X_test.shape)"
   ]
  },
  {
   "source": [
    "### First Tests"
   ],
   "cell_type": "markdown",
   "metadata": {}
  },
  {
   "cell_type": "code",
   "execution_count": 25,
   "metadata": {},
   "outputs": [
    {
     "output_type": "stream",
     "name": "stdout",
     "text": [
      "Coefficients: \n [ 6.58002111e-01 -4.58493632e-01  5.08046091e-02  7.27723088e-04\n  1.18462741e-01  1.02398655e+11  1.02398655e+11 -7.22713502e+11\n -7.22713502e+11 -7.22713502e+11 -7.22713502e+11  1.78341219e+12\n  1.78341219e+12  1.78341219e+12 -1.23693373e+12  6.77948729e+11\n  6.77948729e+11 -5.90374749e+12 -5.90374749e+12 -5.90374749e+12\n -5.90374749e+12 -1.08578893e+13 -1.08578893e+13 -1.08578893e+13\n -1.08578893e+13 -1.08578893e+13 -4.14242051e+12 -4.14242051e+12\n -4.14242051e+12]\nMean squared error: 0.019652955905571857\nCoefficient of determination R^2: 0.56641872428702\n"
     ]
    }
   ],
   "source": [
    "# ## Linear Reg Model - TEST (use sklearn)\n",
    "lin_reg = LinearRegression()\n",
    "lin_reg.fit(X_train, y_train)\n",
    "y_pred = lin_reg.predict(X_test)\n",
    "print('Coefficients: \\n', lin_reg.coef_)\n",
    "print(f'Mean squared error: {mean_squared_error(y_test, y_pred)}')\n",
    "print(f'Coefficient of determination R^2: {r2_score(y_test, y_pred)}')"
   ]
  },
  {
   "cell_type": "code",
   "execution_count": 26,
   "metadata": {},
   "outputs": [
    {
     "output_type": "execute_result",
     "data": {
      "text/plain": [
       "<class 'statsmodels.iolib.summary.Summary'>\n",
       "\"\"\"\n",
       "                            OLS Regression Results                            \n",
       "==============================================================================\n",
       "Dep. Variable:                      y   R-squared:                       0.607\n",
       "Model:                            OLS   Adj. R-squared:                  0.606\n",
       "Method:                 Least Squares   F-statistic:                     563.2\n",
       "Date:                Fri, 05 Feb 2021   Prob (F-statistic):               0.00\n",
       "Time:                        10:09:12   Log-Likelihood:                 4590.1\n",
       "No. Observations:                7682   AIC:                            -9136.\n",
       "Df Residuals:                    7660   BIC:                            -8983.\n",
       "Df Model:                          21                                         \n",
       "Covariance Type:            nonrobust                                         \n",
       "==============================================================================\n",
       "                 coef    std err          t      P>|t|      [0.025      0.975]\n",
       "------------------------------------------------------------------------------\n",
       "x1             0.6610      0.018     36.738      0.000       0.626       0.696\n",
       "x2            -0.4497      0.014    -32.567      0.000      -0.477      -0.423\n",
       "x3             0.0490      0.008      5.888      0.000       0.033       0.065\n",
       "x4            -0.0069      0.018     -0.384      0.701      -0.042       0.028\n",
       "x5             0.1175      0.009     12.705      0.000       0.099       0.136\n",
       "x6           2.32e+11   5.57e+10      4.165      0.000    1.23e+11    3.41e+11\n",
       "x7           2.32e+11   5.57e+10      4.165      0.000    1.23e+11    3.41e+11\n",
       "x8          1.287e+11   3.09e+10      4.165      0.000    6.81e+10    1.89e+11\n",
       "x9          1.287e+11   3.09e+10      4.165      0.000    6.81e+10    1.89e+11\n",
       "x10         1.287e+11   3.09e+10      4.165      0.000    6.81e+10    1.89e+11\n",
       "x11         1.287e+11   3.09e+10      4.165      0.000    6.81e+10    1.89e+11\n",
       "x12         2.781e+11   6.68e+10      4.165      0.000    1.47e+11    4.09e+11\n",
       "x13         2.781e+11   6.68e+10      4.165      0.000    1.47e+11    4.09e+11\n",
       "x14         2.781e+11   6.68e+10      4.165      0.000    1.47e+11    4.09e+11\n",
       "const      -8.906e+11   2.14e+11     -4.165      0.000   -1.31e+12   -4.71e+11\n",
       "x15        -3.651e+11   8.77e+10     -4.165      0.000   -5.37e+11   -1.93e+11\n",
       "x16        -3.651e+11   8.77e+10     -4.165      0.000   -5.37e+11   -1.93e+11\n",
       "x17         1.898e+11   4.56e+10      4.165      0.000       1e+11    2.79e+11\n",
       "x18         1.898e+11   4.56e+10      4.165      0.000       1e+11    2.79e+11\n",
       "x19         1.898e+11   4.56e+10      4.165      0.000       1e+11    2.79e+11\n",
       "x20         1.898e+11   4.56e+10      4.165      0.000       1e+11    2.79e+11\n",
       "x21         1.381e+11   3.32e+10      4.165      0.000    7.31e+10    2.03e+11\n",
       "x22         1.381e+11   3.32e+10      4.165      0.000    7.31e+10    2.03e+11\n",
       "x23         1.381e+11   3.32e+10      4.165      0.000    7.31e+10    2.03e+11\n",
       "x24         1.381e+11   3.32e+10      4.165      0.000    7.31e+10    2.03e+11\n",
       "x25         1.381e+11   3.32e+10      4.165      0.000    7.31e+10    2.03e+11\n",
       "x26         2.891e+11   6.94e+10      4.165      0.000    1.53e+11    4.25e+11\n",
       "x27         2.891e+11   6.94e+10      4.165      0.000    1.53e+11    4.25e+11\n",
       "x28         2.891e+11   6.94e+10      4.165      0.000    1.53e+11    4.25e+11\n",
       "==============================================================================\n",
       "Omnibus:                     1039.118   Durbin-Watson:                   1.992\n",
       "Prob(Omnibus):                  0.000   Jarque-Bera (JB):             4816.334\n",
       "Skew:                          -0.583   Prob(JB):                         0.00\n",
       "Kurtosis:                       6.700   Cond. No.                     1.08e+16\n",
       "==============================================================================\n",
       "\n",
       "Notes:\n",
       "[1] Standard Errors assume that the covariance matrix of the errors is correctly specified.\n",
       "[2] The smallest eigenvalue is 3.64e-28. This might indicate that there are\n",
       "strong multicollinearity problems or that the design matrix is singular.\n",
       "\"\"\""
      ],
      "text/html": "<table class=\"simpletable\">\n<caption>OLS Regression Results</caption>\n<tr>\n  <th>Dep. Variable:</th>            <td>y</td>        <th>  R-squared:         </th> <td>   0.607</td>\n</tr>\n<tr>\n  <th>Model:</th>                   <td>OLS</td>       <th>  Adj. R-squared:    </th> <td>   0.606</td>\n</tr>\n<tr>\n  <th>Method:</th>             <td>Least Squares</td>  <th>  F-statistic:       </th> <td>   563.2</td>\n</tr>\n<tr>\n  <th>Date:</th>             <td>Fri, 05 Feb 2021</td> <th>  Prob (F-statistic):</th>  <td>  0.00</td> \n</tr>\n<tr>\n  <th>Time:</th>                 <td>10:09:12</td>     <th>  Log-Likelihood:    </th> <td>  4590.1</td>\n</tr>\n<tr>\n  <th>No. Observations:</th>      <td>  7682</td>      <th>  AIC:               </th> <td>  -9136.</td>\n</tr>\n<tr>\n  <th>Df Residuals:</th>          <td>  7660</td>      <th>  BIC:               </th> <td>  -8983.</td>\n</tr>\n<tr>\n  <th>Df Model:</th>              <td>    21</td>      <th>                     </th>     <td> </td>   \n</tr>\n<tr>\n  <th>Covariance Type:</th>      <td>nonrobust</td>    <th>                     </th>     <td> </td>   \n</tr>\n</table>\n<table class=\"simpletable\">\n<tr>\n    <td></td>       <th>coef</th>     <th>std err</th>      <th>t</th>      <th>P>|t|</th>  <th>[0.025</th>    <th>0.975]</th>  \n</tr>\n<tr>\n  <th>x1</th>    <td>    0.6610</td> <td>    0.018</td> <td>   36.738</td> <td> 0.000</td> <td>    0.626</td> <td>    0.696</td>\n</tr>\n<tr>\n  <th>x2</th>    <td>   -0.4497</td> <td>    0.014</td> <td>  -32.567</td> <td> 0.000</td> <td>   -0.477</td> <td>   -0.423</td>\n</tr>\n<tr>\n  <th>x3</th>    <td>    0.0490</td> <td>    0.008</td> <td>    5.888</td> <td> 0.000</td> <td>    0.033</td> <td>    0.065</td>\n</tr>\n<tr>\n  <th>x4</th>    <td>   -0.0069</td> <td>    0.018</td> <td>   -0.384</td> <td> 0.701</td> <td>   -0.042</td> <td>    0.028</td>\n</tr>\n<tr>\n  <th>x5</th>    <td>    0.1175</td> <td>    0.009</td> <td>   12.705</td> <td> 0.000</td> <td>    0.099</td> <td>    0.136</td>\n</tr>\n<tr>\n  <th>x6</th>    <td>  2.32e+11</td> <td> 5.57e+10</td> <td>    4.165</td> <td> 0.000</td> <td> 1.23e+11</td> <td> 3.41e+11</td>\n</tr>\n<tr>\n  <th>x7</th>    <td>  2.32e+11</td> <td> 5.57e+10</td> <td>    4.165</td> <td> 0.000</td> <td> 1.23e+11</td> <td> 3.41e+11</td>\n</tr>\n<tr>\n  <th>x8</th>    <td> 1.287e+11</td> <td> 3.09e+10</td> <td>    4.165</td> <td> 0.000</td> <td> 6.81e+10</td> <td> 1.89e+11</td>\n</tr>\n<tr>\n  <th>x9</th>    <td> 1.287e+11</td> <td> 3.09e+10</td> <td>    4.165</td> <td> 0.000</td> <td> 6.81e+10</td> <td> 1.89e+11</td>\n</tr>\n<tr>\n  <th>x10</th>   <td> 1.287e+11</td> <td> 3.09e+10</td> <td>    4.165</td> <td> 0.000</td> <td> 6.81e+10</td> <td> 1.89e+11</td>\n</tr>\n<tr>\n  <th>x11</th>   <td> 1.287e+11</td> <td> 3.09e+10</td> <td>    4.165</td> <td> 0.000</td> <td> 6.81e+10</td> <td> 1.89e+11</td>\n</tr>\n<tr>\n  <th>x12</th>   <td> 2.781e+11</td> <td> 6.68e+10</td> <td>    4.165</td> <td> 0.000</td> <td> 1.47e+11</td> <td> 4.09e+11</td>\n</tr>\n<tr>\n  <th>x13</th>   <td> 2.781e+11</td> <td> 6.68e+10</td> <td>    4.165</td> <td> 0.000</td> <td> 1.47e+11</td> <td> 4.09e+11</td>\n</tr>\n<tr>\n  <th>x14</th>   <td> 2.781e+11</td> <td> 6.68e+10</td> <td>    4.165</td> <td> 0.000</td> <td> 1.47e+11</td> <td> 4.09e+11</td>\n</tr>\n<tr>\n  <th>const</th> <td>-8.906e+11</td> <td> 2.14e+11</td> <td>   -4.165</td> <td> 0.000</td> <td>-1.31e+12</td> <td>-4.71e+11</td>\n</tr>\n<tr>\n  <th>x15</th>   <td>-3.651e+11</td> <td> 8.77e+10</td> <td>   -4.165</td> <td> 0.000</td> <td>-5.37e+11</td> <td>-1.93e+11</td>\n</tr>\n<tr>\n  <th>x16</th>   <td>-3.651e+11</td> <td> 8.77e+10</td> <td>   -4.165</td> <td> 0.000</td> <td>-5.37e+11</td> <td>-1.93e+11</td>\n</tr>\n<tr>\n  <th>x17</th>   <td> 1.898e+11</td> <td> 4.56e+10</td> <td>    4.165</td> <td> 0.000</td> <td>    1e+11</td> <td> 2.79e+11</td>\n</tr>\n<tr>\n  <th>x18</th>   <td> 1.898e+11</td> <td> 4.56e+10</td> <td>    4.165</td> <td> 0.000</td> <td>    1e+11</td> <td> 2.79e+11</td>\n</tr>\n<tr>\n  <th>x19</th>   <td> 1.898e+11</td> <td> 4.56e+10</td> <td>    4.165</td> <td> 0.000</td> <td>    1e+11</td> <td> 2.79e+11</td>\n</tr>\n<tr>\n  <th>x20</th>   <td> 1.898e+11</td> <td> 4.56e+10</td> <td>    4.165</td> <td> 0.000</td> <td>    1e+11</td> <td> 2.79e+11</td>\n</tr>\n<tr>\n  <th>x21</th>   <td> 1.381e+11</td> <td> 3.32e+10</td> <td>    4.165</td> <td> 0.000</td> <td> 7.31e+10</td> <td> 2.03e+11</td>\n</tr>\n<tr>\n  <th>x22</th>   <td> 1.381e+11</td> <td> 3.32e+10</td> <td>    4.165</td> <td> 0.000</td> <td> 7.31e+10</td> <td> 2.03e+11</td>\n</tr>\n<tr>\n  <th>x23</th>   <td> 1.381e+11</td> <td> 3.32e+10</td> <td>    4.165</td> <td> 0.000</td> <td> 7.31e+10</td> <td> 2.03e+11</td>\n</tr>\n<tr>\n  <th>x24</th>   <td> 1.381e+11</td> <td> 3.32e+10</td> <td>    4.165</td> <td> 0.000</td> <td> 7.31e+10</td> <td> 2.03e+11</td>\n</tr>\n<tr>\n  <th>x25</th>   <td> 1.381e+11</td> <td> 3.32e+10</td> <td>    4.165</td> <td> 0.000</td> <td> 7.31e+10</td> <td> 2.03e+11</td>\n</tr>\n<tr>\n  <th>x26</th>   <td> 2.891e+11</td> <td> 6.94e+10</td> <td>    4.165</td> <td> 0.000</td> <td> 1.53e+11</td> <td> 4.25e+11</td>\n</tr>\n<tr>\n  <th>x27</th>   <td> 2.891e+11</td> <td> 6.94e+10</td> <td>    4.165</td> <td> 0.000</td> <td> 1.53e+11</td> <td> 4.25e+11</td>\n</tr>\n<tr>\n  <th>x28</th>   <td> 2.891e+11</td> <td> 6.94e+10</td> <td>    4.165</td> <td> 0.000</td> <td> 1.53e+11</td> <td> 4.25e+11</td>\n</tr>\n</table>\n<table class=\"simpletable\">\n<tr>\n  <th>Omnibus:</th>       <td>1039.118</td> <th>  Durbin-Watson:     </th> <td>   1.992</td>\n</tr>\n<tr>\n  <th>Prob(Omnibus):</th>  <td> 0.000</td>  <th>  Jarque-Bera (JB):  </th> <td>4816.334</td>\n</tr>\n<tr>\n  <th>Skew:</th>           <td>-0.583</td>  <th>  Prob(JB):          </th> <td>    0.00</td>\n</tr>\n<tr>\n  <th>Kurtosis:</th>       <td> 6.700</td>  <th>  Cond. No.          </th> <td>1.08e+16</td>\n</tr>\n</table><br/><br/>Notes:<br/>[1] Standard Errors assume that the covariance matrix of the errors is correctly specified.<br/>[2] The smallest eigenvalue is 3.64e-28. This might indicate that there are<br/>strong multicollinearity problems or that the design matrix is singular."
     },
     "metadata": {},
     "execution_count": 26
    }
   ],
   "source": [
    "## Linear Reg Model - TEST (use sm)\n",
    "X0_train = sm.add_constant(X_train)\n",
    "model = sm.OLS(y_train, X0_train).fit()\n",
    "model.summary()"
   ]
  },
  {
   "source": [
    "## Spot check / Compare models\n",
    "#### try diff models compare results using kfold cv"
   ],
   "cell_type": "markdown",
   "metadata": {}
  },
  {
   "cell_type": "code",
   "execution_count": 29,
   "metadata": {},
   "outputs": [],
   "source": [
    "# create a dict of standard models to evaluate\n",
    "def define_models(models=dict()):\n",
    "    models['linear_reg'] = LinearRegression()\n",
    "    alpha = [round(x, 2) for x in np.linspace(0,1,11)]\n",
    "    for a in alpha:\n",
    "        models['lasso_reg_'+str(a)] = Lasso(alpha=a)\n",
    "        models['ridge_reg_'+str(a)] = Ridge(alpha=a)\n",
    "        models['en_reg_'+str(a)] = ElasticNet(alpha=a)\n",
    "    return models\n",
    " \n",
    "# evaluate a single model\n",
    "def evaluate_model(X, y, model, folds, metric):\n",
    "\t# evaluate model\n",
    "\tscores = cross_val_score(estimator=model, X=X, y=y, scoring=metric, cv=folds, n_jobs=1)\n",
    "\treturn scores\n",
    "\n",
    "## see more metrics on sklearn docs\n",
    "## https://scikit-learn.org/stable/modules/model_evaluation.html\n",
    "\n",
    "## e.g. using RMSE (LOWER (i.e. more negative vals) = better fit)\n",
    "\n",
    "# evaluate a dict of models {name:object}, returns {name:score}\n",
    "def evaluate_models(X, y, models, folds=5, metric='neg_root_mean_squared_error'):   \n",
    "    results = dict()\n",
    "    print(f\"Using {metric} metric for scores below:\\n\")\n",
    "    for name, model in models.items():\n",
    "        # scores = robust_evaluate_model(X, y, model, folds, metric)\n",
    "        scores = evaluate_model(X, y, model, folds, metric)\n",
    "        if scores is not None:\n",
    "            results[name] = scores\n",
    "            mean_score, std_score = np.mean(scores), np.std(scores)\n",
    "            print(f'{name}: Mean:{mean_score:.3f}, St.Dev:{std_score:.3f}')\n",
    "        else:\n",
    "            print(f'{name}: error')\n",
    "    return results"
   ]
  },
  {
   "cell_type": "code",
   "execution_count": 30,
   "metadata": {},
   "outputs": [
    {
     "output_type": "stream",
     "name": "stdout",
     "text": [
      "Using neg_root_mean_squared_error metric for scores below:\n",
      "\n",
      "linear_reg: Mean:-0.135, St.Dev:0.003\n",
      "lasso_reg_0.0: Mean:-0.135, St.Dev:0.002\n",
      "ridge_reg_0.0: Mean:-0.136, St.Dev:0.002\n",
      "en_reg_0.0: Mean:-0.135, St.Dev:0.002\n",
      "lasso_reg_0.1: Mean:-0.212, St.Dev:0.004\n",
      "ridge_reg_0.1: Mean:-0.135, St.Dev:0.002\n",
      "en_reg_0.1: Mean:-0.212, St.Dev:0.004\n",
      "lasso_reg_0.2: Mean:-0.212, St.Dev:0.004\n",
      "ridge_reg_0.2: Mean:-0.135, St.Dev:0.002\n",
      "en_reg_0.2: Mean:-0.212, St.Dev:0.004\n",
      "lasso_reg_0.3: Mean:-0.212, St.Dev:0.004\n",
      "ridge_reg_0.3: Mean:-0.135, St.Dev:0.002\n",
      "en_reg_0.3: Mean:-0.212, St.Dev:0.004\n",
      "lasso_reg_0.4: Mean:-0.212, St.Dev:0.004\n",
      "ridge_reg_0.4: Mean:-0.135, St.Dev:0.002\n",
      "en_reg_0.4: Mean:-0.212, St.Dev:0.004\n",
      "lasso_reg_0.5: Mean:-0.212, St.Dev:0.004\n",
      "ridge_reg_0.5: Mean:-0.135, St.Dev:0.002\n",
      "en_reg_0.5: Mean:-0.212, St.Dev:0.004\n",
      "lasso_reg_0.6: Mean:-0.212, St.Dev:0.004\n",
      "ridge_reg_0.6: Mean:-0.135, St.Dev:0.002\n",
      "en_reg_0.6: Mean:-0.212, St.Dev:0.004\n",
      "lasso_reg_0.7: Mean:-0.212, St.Dev:0.004\n",
      "ridge_reg_0.7: Mean:-0.135, St.Dev:0.002\n",
      "en_reg_0.7: Mean:-0.212, St.Dev:0.004\n",
      "lasso_reg_0.8: Mean:-0.212, St.Dev:0.004\n",
      "ridge_reg_0.8: Mean:-0.135, St.Dev:0.002\n",
      "en_reg_0.8: Mean:-0.212, St.Dev:0.004\n",
      "lasso_reg_0.9: Mean:-0.212, St.Dev:0.004\n",
      "ridge_reg_0.9: Mean:-0.135, St.Dev:0.002\n",
      "en_reg_0.9: Mean:-0.212, St.Dev:0.004\n",
      "lasso_reg_1.0: Mean:-0.212, St.Dev:0.004\n",
      "ridge_reg_1.0: Mean:-0.135, St.Dev:0.002\n",
      "en_reg_1.0: Mean:-0.212, St.Dev:0.004\n"
     ]
    }
   ],
   "source": [
    "models = define_models() \n",
    "results = evaluate_models(X, y, models)"
   ]
  },
  {
   "cell_type": "code",
   "execution_count": 35,
   "metadata": {},
   "outputs": [
    {
     "output_type": "execute_result",
     "data": {
      "text/plain": [
       "34"
      ]
     },
     "metadata": {},
     "execution_count": 35
    }
   ],
   "source": [
    "mean_results = {name: np.round(np.mean(arr), 4) for name, arr in results.items()}\n",
    "len(mean_results)"
   ]
  },
  {
   "cell_type": "code",
   "execution_count": 38,
   "metadata": {},
   "outputs": [
    {
     "output_type": "execute_result",
     "data": {
      "text/plain": [
       "[('lasso_reg_0.1', -0.2124),\n",
       " ('en_reg_0.1', -0.2124),\n",
       " ('lasso_reg_0.2', -0.2124),\n",
       " ('en_reg_0.2', -0.2124),\n",
       " ('lasso_reg_0.3', -0.2124),\n",
       " ('en_reg_0.3', -0.2124),\n",
       " ('lasso_reg_0.4', -0.2124),\n",
       " ('en_reg_0.4', -0.2124),\n",
       " ('lasso_reg_0.5', -0.2124),\n",
       " ('en_reg_0.5', -0.2124),\n",
       " ('lasso_reg_0.6', -0.2124),\n",
       " ('en_reg_0.6', -0.2124),\n",
       " ('lasso_reg_0.7', -0.2124),\n",
       " ('en_reg_0.7', -0.2124),\n",
       " ('lasso_reg_0.8', -0.2124),\n",
       " ('en_reg_0.8', -0.2124),\n",
       " ('lasso_reg_0.9', -0.2124),\n",
       " ('en_reg_0.9', -0.2124),\n",
       " ('lasso_reg_1.0', -0.2124),\n",
       " ('en_reg_1.0', -0.2124),\n",
       " ('ridge_reg_0.0', -0.1361),\n",
       " ('linear_reg', -0.1355),\n",
       " ('lasso_reg_0.0', -0.1346),\n",
       " ('en_reg_0.0', -0.1346),\n",
       " ('ridge_reg_0.1', -0.1346),\n",
       " ('ridge_reg_0.2', -0.1346),\n",
       " ('ridge_reg_0.3', -0.1346),\n",
       " ('ridge_reg_0.4', -0.1346),\n",
       " ('ridge_reg_0.5', -0.1346),\n",
       " ('ridge_reg_0.6', -0.1346),\n",
       " ('ridge_reg_0.7', -0.1346),\n",
       " ('ridge_reg_0.8', -0.1346),\n",
       " ('ridge_reg_0.9', -0.1346),\n",
       " ('ridge_reg_1.0', -0.1346)]"
      ]
     },
     "metadata": {},
     "execution_count": 38
    }
   ],
   "source": [
    "## sort results with 'best' models first (having lowest error scores)\n",
    "sorted(mean_results.items(), key=lambda x: x[1])"
   ]
  },
  {
   "source": [
    "Looks like Lasso and EN at diff alpha values do equally well, better than ridge or plain lin reg."
   ],
   "cell_type": "markdown",
   "metadata": {}
  },
  {
   "cell_type": "code",
   "execution_count": null,
   "metadata": {},
   "outputs": [],
   "source": []
  },
  {
   "cell_type": "code",
   "execution_count": 48,
   "metadata": {},
   "outputs": [],
   "source": [
    "# TODO: plot and evaluate results. also change the code above taken from MLM\n",
    "\n",
    "# print and plot the top n results\n",
    "def summarize_results(results, maximize=False, top_n=10):\n",
    "\t# check for no results\n",
    "\tif len(results) == 0:\n",
    "\t\tprint('no results')\n",
    "\t\treturn\n",
    "\t# determine how many results to summarize\n",
    "\tn = min(top_n, len(results))\n",
    "\t# create a list of (name, mean(scores)) tuples\n",
    "\tmean_scores = [(k, np.mean(v)) for k,v in results.items()]\n",
    "\t# sort tuples by mean score\n",
    "\tmean_scores = sorted(mean_scores, key=lambda x: x[1])\n",
    "\t# reverse for descending order (e.g. for accuracy)\n",
    "\tif maximize:\n",
    "\t\tmean_scores = list(reversed(mean_scores))\n",
    "\t# retrieve the top n for summarization\n",
    "\tnames = [x[0] for x in mean_scores[:n]]\n",
    "\tscores = [results[x[0]] for x in mean_scores[:n]]\n",
    "\t# print the top n\n",
    "\tprint()\n",
    "\tfor i in range(n):\n",
    "\t\tname = names[i]\n",
    "\t\tmean_score, std_score = np.mean(results[name]), np.std(results[name])\n",
    "\t\tprint('Rank=%d, Name=%s, Score=%.3f (+/- %.3f)' % (i+1, name, mean_score, std_score))\n",
    "\t# boxplot for the top n\n",
    "\tplt.boxplot(scores, labels=names)\n",
    "\t_, labels = plt.xticks()\n",
    "\tplt.setp(labels, rotation=90)\n",
    "\t# pyplot.savefig('spotcheck.png')"
   ]
  },
  {
   "cell_type": "code",
   "execution_count": 49,
   "metadata": {},
   "outputs": [
    {
     "output_type": "stream",
     "name": "stdout",
     "text": [
      "\nRank=1, Name=lasso_reg_0.1, Score=-0.212 (+/- 0.004)\nRank=2, Name=en_reg_0.1, Score=-0.212 (+/- 0.004)\nRank=3, Name=lasso_reg_0.2, Score=-0.212 (+/- 0.004)\nRank=4, Name=en_reg_0.2, Score=-0.212 (+/- 0.004)\nRank=5, Name=lasso_reg_0.3, Score=-0.212 (+/- 0.004)\nRank=6, Name=en_reg_0.3, Score=-0.212 (+/- 0.004)\nRank=7, Name=lasso_reg_0.4, Score=-0.212 (+/- 0.004)\nRank=8, Name=en_reg_0.4, Score=-0.212 (+/- 0.004)\nRank=9, Name=lasso_reg_0.5, Score=-0.212 (+/- 0.004)\nRank=10, Name=en_reg_0.5, Score=-0.212 (+/- 0.004)\n"
     ]
    },
    {
     "output_type": "display_data",
     "data": {
      "text/plain": "<Figure size 432x288 with 1 Axes>",
      "image/svg+xml": "<?xml version=\"1.0\" encoding=\"utf-8\" standalone=\"no\"?>\n<!DOCTYPE svg PUBLIC \"-//W3C//DTD SVG 1.1//EN\"\n  \"http://www.w3.org/Graphics/SVG/1.1/DTD/svg11.dtd\">\n<!-- Created with matplotlib (https://matplotlib.org/) -->\n<svg height=\"306.574375pt\" version=\"1.1\" viewBox=\"0 0 393.207812 306.574375\" width=\"393.207812pt\" xmlns=\"http://www.w3.org/2000/svg\" xmlns:xlink=\"http://www.w3.org/1999/xlink\">\n <metadata>\n  <rdf:RDF xmlns:cc=\"http://creativecommons.org/ns#\" xmlns:dc=\"http://purl.org/dc/elements/1.1/\" xmlns:rdf=\"http://www.w3.org/1999/02/22-rdf-syntax-ns#\">\n   <cc:Work>\n    <dc:type rdf:resource=\"http://purl.org/dc/dcmitype/StillImage\"/>\n    <dc:date>2021-02-02T14:01:05.897584</dc:date>\n    <dc:format>image/svg+xml</dc:format>\n    <dc:creator>\n     <cc:Agent>\n      <dc:title>Matplotlib v3.3.2, https://matplotlib.org/</dc:title>\n     </cc:Agent>\n    </dc:creator>\n   </cc:Work>\n  </rdf:RDF>\n </metadata>\n <defs>\n  <style type=\"text/css\">*{stroke-linecap:butt;stroke-linejoin:round;}</style>\n </defs>\n <g id=\"figure_1\">\n  <g id=\"patch_1\">\n   <path d=\"M 0 306.574375 \nL 393.207812 306.574375 \nL 393.207812 0 \nL 0 0 \nz\n\" style=\"fill:none;\"/>\n  </g>\n  <g id=\"axes_1\">\n   <g id=\"patch_2\">\n    <path d=\"M 51.207813 224.64 \nL 386.007812 224.64 \nL 386.007812 7.2 \nL 51.207813 7.2 \nz\n\" style=\"fill:#ffffff;\"/>\n   </g>\n   <g id=\"matplotlib.axis_1\">\n    <g id=\"xtick_1\">\n     <g id=\"line2d_1\">\n      <defs>\n       <path d=\"M 0 0 \nL 0 3.5 \n\" id=\"m2536634998\" style=\"stroke:#000000;stroke-width:0.8;\"/>\n      </defs>\n      <g>\n       <use style=\"stroke:#000000;stroke-width:0.8;\" x=\"67.947812\" xlink:href=\"#m2536634998\" y=\"224.64\"/>\n      </g>\n     </g>\n     <g id=\"text_1\">\n      <!-- lasso_reg_0.1 -->\n      <g transform=\"translate(70.568125 299.374375)rotate(-90)scale(0.1 -0.1)\">\n       <defs>\n        <path d=\"M 9.421875 75.984375 \nL 18.40625 75.984375 \nL 18.40625 0 \nL 9.421875 0 \nz\n\" id=\"DejaVuSans-108\"/>\n        <path d=\"M 34.28125 27.484375 \nQ 23.390625 27.484375 19.1875 25 \nQ 14.984375 22.515625 14.984375 16.5 \nQ 14.984375 11.71875 18.140625 8.90625 \nQ 21.296875 6.109375 26.703125 6.109375 \nQ 34.1875 6.109375 38.703125 11.40625 \nQ 43.21875 16.703125 43.21875 25.484375 \nL 43.21875 27.484375 \nz\nM 52.203125 31.203125 \nL 52.203125 0 \nL 43.21875 0 \nL 43.21875 8.296875 \nQ 40.140625 3.328125 35.546875 0.953125 \nQ 30.953125 -1.421875 24.3125 -1.421875 \nQ 15.921875 -1.421875 10.953125 3.296875 \nQ 6 8.015625 6 15.921875 \nQ 6 25.140625 12.171875 29.828125 \nQ 18.359375 34.515625 30.609375 34.515625 \nL 43.21875 34.515625 \nL 43.21875 35.40625 \nQ 43.21875 41.609375 39.140625 45 \nQ 35.0625 48.390625 27.6875 48.390625 \nQ 23 48.390625 18.546875 47.265625 \nQ 14.109375 46.140625 10.015625 43.890625 \nL 10.015625 52.203125 \nQ 14.9375 54.109375 19.578125 55.046875 \nQ 24.21875 56 28.609375 56 \nQ 40.484375 56 46.34375 49.84375 \nQ 52.203125 43.703125 52.203125 31.203125 \nz\n\" id=\"DejaVuSans-97\"/>\n        <path d=\"M 44.28125 53.078125 \nL 44.28125 44.578125 \nQ 40.484375 46.53125 36.375 47.5 \nQ 32.28125 48.484375 27.875 48.484375 \nQ 21.1875 48.484375 17.84375 46.4375 \nQ 14.5 44.390625 14.5 40.28125 \nQ 14.5 37.15625 16.890625 35.375 \nQ 19.28125 33.59375 26.515625 31.984375 \nL 29.59375 31.296875 \nQ 39.15625 29.25 43.1875 25.515625 \nQ 47.21875 21.78125 47.21875 15.09375 \nQ 47.21875 7.46875 41.1875 3.015625 \nQ 35.15625 -1.421875 24.609375 -1.421875 \nQ 20.21875 -1.421875 15.453125 -0.5625 \nQ 10.6875 0.296875 5.421875 2 \nL 5.421875 11.28125 \nQ 10.40625 8.6875 15.234375 7.390625 \nQ 20.0625 6.109375 24.8125 6.109375 \nQ 31.15625 6.109375 34.5625 8.28125 \nQ 37.984375 10.453125 37.984375 14.40625 \nQ 37.984375 18.0625 35.515625 20.015625 \nQ 33.0625 21.96875 24.703125 23.78125 \nL 21.578125 24.515625 \nQ 13.234375 26.265625 9.515625 29.90625 \nQ 5.8125 33.546875 5.8125 39.890625 \nQ 5.8125 47.609375 11.28125 51.796875 \nQ 16.75 56 26.8125 56 \nQ 31.78125 56 36.171875 55.265625 \nQ 40.578125 54.546875 44.28125 53.078125 \nz\n\" id=\"DejaVuSans-115\"/>\n        <path d=\"M 30.609375 48.390625 \nQ 23.390625 48.390625 19.1875 42.75 \nQ 14.984375 37.109375 14.984375 27.296875 \nQ 14.984375 17.484375 19.15625 11.84375 \nQ 23.34375 6.203125 30.609375 6.203125 \nQ 37.796875 6.203125 41.984375 11.859375 \nQ 46.1875 17.53125 46.1875 27.296875 \nQ 46.1875 37.015625 41.984375 42.703125 \nQ 37.796875 48.390625 30.609375 48.390625 \nz\nM 30.609375 56 \nQ 42.328125 56 49.015625 48.375 \nQ 55.71875 40.765625 55.71875 27.296875 \nQ 55.71875 13.875 49.015625 6.21875 \nQ 42.328125 -1.421875 30.609375 -1.421875 \nQ 18.84375 -1.421875 12.171875 6.21875 \nQ 5.515625 13.875 5.515625 27.296875 \nQ 5.515625 40.765625 12.171875 48.375 \nQ 18.84375 56 30.609375 56 \nz\n\" id=\"DejaVuSans-111\"/>\n        <path d=\"M 50.984375 -16.609375 \nL 50.984375 -23.578125 \nL -0.984375 -23.578125 \nL -0.984375 -16.609375 \nz\n\" id=\"DejaVuSans-95\"/>\n        <path d=\"M 41.109375 46.296875 \nQ 39.59375 47.171875 37.8125 47.578125 \nQ 36.03125 48 33.890625 48 \nQ 26.265625 48 22.1875 43.046875 \nQ 18.109375 38.09375 18.109375 28.8125 \nL 18.109375 0 \nL 9.078125 0 \nL 9.078125 54.6875 \nL 18.109375 54.6875 \nL 18.109375 46.1875 \nQ 20.953125 51.171875 25.484375 53.578125 \nQ 30.03125 56 36.53125 56 \nQ 37.453125 56 38.578125 55.875 \nQ 39.703125 55.765625 41.0625 55.515625 \nz\n\" id=\"DejaVuSans-114\"/>\n        <path d=\"M 56.203125 29.59375 \nL 56.203125 25.203125 \nL 14.890625 25.203125 \nQ 15.484375 15.921875 20.484375 11.0625 \nQ 25.484375 6.203125 34.421875 6.203125 \nQ 39.59375 6.203125 44.453125 7.46875 \nQ 49.3125 8.734375 54.109375 11.28125 \nL 54.109375 2.78125 \nQ 49.265625 0.734375 44.1875 -0.34375 \nQ 39.109375 -1.421875 33.890625 -1.421875 \nQ 20.796875 -1.421875 13.15625 6.1875 \nQ 5.515625 13.8125 5.515625 26.8125 \nQ 5.515625 40.234375 12.765625 48.109375 \nQ 20.015625 56 32.328125 56 \nQ 43.359375 56 49.78125 48.890625 \nQ 56.203125 41.796875 56.203125 29.59375 \nz\nM 47.21875 32.234375 \nQ 47.125 39.59375 43.09375 43.984375 \nQ 39.0625 48.390625 32.421875 48.390625 \nQ 24.90625 48.390625 20.390625 44.140625 \nQ 15.875 39.890625 15.1875 32.171875 \nz\n\" id=\"DejaVuSans-101\"/>\n        <path d=\"M 45.40625 27.984375 \nQ 45.40625 37.75 41.375 43.109375 \nQ 37.359375 48.484375 30.078125 48.484375 \nQ 22.859375 48.484375 18.828125 43.109375 \nQ 14.796875 37.75 14.796875 27.984375 \nQ 14.796875 18.265625 18.828125 12.890625 \nQ 22.859375 7.515625 30.078125 7.515625 \nQ 37.359375 7.515625 41.375 12.890625 \nQ 45.40625 18.265625 45.40625 27.984375 \nz\nM 54.390625 6.78125 \nQ 54.390625 -7.171875 48.1875 -13.984375 \nQ 42 -20.796875 29.203125 -20.796875 \nQ 24.46875 -20.796875 20.265625 -20.09375 \nQ 16.0625 -19.390625 12.109375 -17.921875 \nL 12.109375 -9.1875 \nQ 16.0625 -11.328125 19.921875 -12.34375 \nQ 23.78125 -13.375 27.78125 -13.375 \nQ 36.625 -13.375 41.015625 -8.765625 \nQ 45.40625 -4.15625 45.40625 5.171875 \nL 45.40625 9.625 \nQ 42.625 4.78125 38.28125 2.390625 \nQ 33.9375 0 27.875 0 \nQ 17.828125 0 11.671875 7.65625 \nQ 5.515625 15.328125 5.515625 27.984375 \nQ 5.515625 40.671875 11.671875 48.328125 \nQ 17.828125 56 27.875 56 \nQ 33.9375 56 38.28125 53.609375 \nQ 42.625 51.21875 45.40625 46.390625 \nL 45.40625 54.6875 \nL 54.390625 54.6875 \nz\n\" id=\"DejaVuSans-103\"/>\n        <path d=\"M 31.78125 66.40625 \nQ 24.171875 66.40625 20.328125 58.90625 \nQ 16.5 51.421875 16.5 36.375 \nQ 16.5 21.390625 20.328125 13.890625 \nQ 24.171875 6.390625 31.78125 6.390625 \nQ 39.453125 6.390625 43.28125 13.890625 \nQ 47.125 21.390625 47.125 36.375 \nQ 47.125 51.421875 43.28125 58.90625 \nQ 39.453125 66.40625 31.78125 66.40625 \nz\nM 31.78125 74.21875 \nQ 44.046875 74.21875 50.515625 64.515625 \nQ 56.984375 54.828125 56.984375 36.375 \nQ 56.984375 17.96875 50.515625 8.265625 \nQ 44.046875 -1.421875 31.78125 -1.421875 \nQ 19.53125 -1.421875 13.0625 8.265625 \nQ 6.59375 17.96875 6.59375 36.375 \nQ 6.59375 54.828125 13.0625 64.515625 \nQ 19.53125 74.21875 31.78125 74.21875 \nz\n\" id=\"DejaVuSans-48\"/>\n        <path d=\"M 10.6875 12.40625 \nL 21 12.40625 \nL 21 0 \nL 10.6875 0 \nz\n\" id=\"DejaVuSans-46\"/>\n        <path d=\"M 12.40625 8.296875 \nL 28.515625 8.296875 \nL 28.515625 63.921875 \nL 10.984375 60.40625 \nL 10.984375 69.390625 \nL 28.421875 72.90625 \nL 38.28125 72.90625 \nL 38.28125 8.296875 \nL 54.390625 8.296875 \nL 54.390625 0 \nL 12.40625 0 \nz\n\" id=\"DejaVuSans-49\"/>\n       </defs>\n       <use xlink:href=\"#DejaVuSans-108\"/>\n       <use x=\"27.783203\" xlink:href=\"#DejaVuSans-97\"/>\n       <use x=\"89.0625\" xlink:href=\"#DejaVuSans-115\"/>\n       <use x=\"141.162109\" xlink:href=\"#DejaVuSans-115\"/>\n       <use x=\"193.261719\" xlink:href=\"#DejaVuSans-111\"/>\n       <use x=\"254.443359\" xlink:href=\"#DejaVuSans-95\"/>\n       <use x=\"304.443359\" xlink:href=\"#DejaVuSans-114\"/>\n       <use x=\"343.306641\" xlink:href=\"#DejaVuSans-101\"/>\n       <use x=\"404.830078\" xlink:href=\"#DejaVuSans-103\"/>\n       <use x=\"468.306641\" xlink:href=\"#DejaVuSans-95\"/>\n       <use x=\"518.306641\" xlink:href=\"#DejaVuSans-48\"/>\n       <use x=\"581.929688\" xlink:href=\"#DejaVuSans-46\"/>\n       <use x=\"613.716797\" xlink:href=\"#DejaVuSans-49\"/>\n      </g>\n     </g>\n    </g>\n    <g id=\"xtick_2\">\n     <g id=\"line2d_2\">\n      <g>\n       <use style=\"stroke:#000000;stroke-width:0.8;\" x=\"101.427813\" xlink:href=\"#m2536634998\" y=\"224.64\"/>\n      </g>\n     </g>\n     <g id=\"text_2\">\n      <!-- en_reg_0.1 -->\n      <g transform=\"translate(103.959844 286.42125)rotate(-90)scale(0.1 -0.1)\">\n       <defs>\n        <path d=\"M 54.890625 33.015625 \nL 54.890625 0 \nL 45.90625 0 \nL 45.90625 32.71875 \nQ 45.90625 40.484375 42.875 44.328125 \nQ 39.84375 48.1875 33.796875 48.1875 \nQ 26.515625 48.1875 22.3125 43.546875 \nQ 18.109375 38.921875 18.109375 30.90625 \nL 18.109375 0 \nL 9.078125 0 \nL 9.078125 54.6875 \nL 18.109375 54.6875 \nL 18.109375 46.1875 \nQ 21.34375 51.125 25.703125 53.5625 \nQ 30.078125 56 35.796875 56 \nQ 45.21875 56 50.046875 50.171875 \nQ 54.890625 44.34375 54.890625 33.015625 \nz\n\" id=\"DejaVuSans-110\"/>\n       </defs>\n       <use xlink:href=\"#DejaVuSans-101\"/>\n       <use x=\"61.523438\" xlink:href=\"#DejaVuSans-110\"/>\n       <use x=\"124.902344\" xlink:href=\"#DejaVuSans-95\"/>\n       <use x=\"174.902344\" xlink:href=\"#DejaVuSans-114\"/>\n       <use x=\"213.765625\" xlink:href=\"#DejaVuSans-101\"/>\n       <use x=\"275.289062\" xlink:href=\"#DejaVuSans-103\"/>\n       <use x=\"338.765625\" xlink:href=\"#DejaVuSans-95\"/>\n       <use x=\"388.765625\" xlink:href=\"#DejaVuSans-48\"/>\n       <use x=\"452.388672\" xlink:href=\"#DejaVuSans-46\"/>\n       <use x=\"484.175781\" xlink:href=\"#DejaVuSans-49\"/>\n      </g>\n     </g>\n    </g>\n    <g id=\"xtick_3\">\n     <g id=\"line2d_3\">\n      <g>\n       <use style=\"stroke:#000000;stroke-width:0.8;\" x=\"134.907813\" xlink:href=\"#m2536634998\" y=\"224.64\"/>\n      </g>\n     </g>\n     <g id=\"text_3\">\n      <!-- lasso_reg_0.2 -->\n      <g transform=\"translate(137.528125 299.374375)rotate(-90)scale(0.1 -0.1)\">\n       <defs>\n        <path d=\"M 19.1875 8.296875 \nL 53.609375 8.296875 \nL 53.609375 0 \nL 7.328125 0 \nL 7.328125 8.296875 \nQ 12.9375 14.109375 22.625 23.890625 \nQ 32.328125 33.6875 34.8125 36.53125 \nQ 39.546875 41.84375 41.421875 45.53125 \nQ 43.3125 49.21875 43.3125 52.78125 \nQ 43.3125 58.59375 39.234375 62.25 \nQ 35.15625 65.921875 28.609375 65.921875 \nQ 23.96875 65.921875 18.8125 64.3125 \nQ 13.671875 62.703125 7.8125 59.421875 \nL 7.8125 69.390625 \nQ 13.765625 71.78125 18.9375 73 \nQ 24.125 74.21875 28.421875 74.21875 \nQ 39.75 74.21875 46.484375 68.546875 \nQ 53.21875 62.890625 53.21875 53.421875 \nQ 53.21875 48.921875 51.53125 44.890625 \nQ 49.859375 40.875 45.40625 35.40625 \nQ 44.1875 33.984375 37.640625 27.21875 \nQ 31.109375 20.453125 19.1875 8.296875 \nz\n\" id=\"DejaVuSans-50\"/>\n       </defs>\n       <use xlink:href=\"#DejaVuSans-108\"/>\n       <use x=\"27.783203\" xlink:href=\"#DejaVuSans-97\"/>\n       <use x=\"89.0625\" xlink:href=\"#DejaVuSans-115\"/>\n       <use x=\"141.162109\" xlink:href=\"#DejaVuSans-115\"/>\n       <use x=\"193.261719\" xlink:href=\"#DejaVuSans-111\"/>\n       <use x=\"254.443359\" xlink:href=\"#DejaVuSans-95\"/>\n       <use x=\"304.443359\" xlink:href=\"#DejaVuSans-114\"/>\n       <use x=\"343.306641\" xlink:href=\"#DejaVuSans-101\"/>\n       <use x=\"404.830078\" xlink:href=\"#DejaVuSans-103\"/>\n       <use x=\"468.306641\" xlink:href=\"#DejaVuSans-95\"/>\n       <use x=\"518.306641\" xlink:href=\"#DejaVuSans-48\"/>\n       <use x=\"581.929688\" xlink:href=\"#DejaVuSans-46\"/>\n       <use x=\"613.716797\" xlink:href=\"#DejaVuSans-50\"/>\n      </g>\n     </g>\n    </g>\n    <g id=\"xtick_4\">\n     <g id=\"line2d_4\">\n      <g>\n       <use style=\"stroke:#000000;stroke-width:0.8;\" x=\"168.387813\" xlink:href=\"#m2536634998\" y=\"224.64\"/>\n      </g>\n     </g>\n     <g id=\"text_4\">\n      <!-- en_reg_0.2 -->\n      <g transform=\"translate(170.919844 286.42125)rotate(-90)scale(0.1 -0.1)\">\n       <use xlink:href=\"#DejaVuSans-101\"/>\n       <use x=\"61.523438\" xlink:href=\"#DejaVuSans-110\"/>\n       <use x=\"124.902344\" xlink:href=\"#DejaVuSans-95\"/>\n       <use x=\"174.902344\" xlink:href=\"#DejaVuSans-114\"/>\n       <use x=\"213.765625\" xlink:href=\"#DejaVuSans-101\"/>\n       <use x=\"275.289062\" xlink:href=\"#DejaVuSans-103\"/>\n       <use x=\"338.765625\" xlink:href=\"#DejaVuSans-95\"/>\n       <use x=\"388.765625\" xlink:href=\"#DejaVuSans-48\"/>\n       <use x=\"452.388672\" xlink:href=\"#DejaVuSans-46\"/>\n       <use x=\"484.175781\" xlink:href=\"#DejaVuSans-50\"/>\n      </g>\n     </g>\n    </g>\n    <g id=\"xtick_5\">\n     <g id=\"line2d_5\">\n      <g>\n       <use style=\"stroke:#000000;stroke-width:0.8;\" x=\"201.867813\" xlink:href=\"#m2536634998\" y=\"224.64\"/>\n      </g>\n     </g>\n     <g id=\"text_5\">\n      <!-- lasso_reg_0.3 -->\n      <g transform=\"translate(204.488125 299.374375)rotate(-90)scale(0.1 -0.1)\">\n       <defs>\n        <path d=\"M 40.578125 39.3125 \nQ 47.65625 37.796875 51.625 33 \nQ 55.609375 28.21875 55.609375 21.1875 \nQ 55.609375 10.40625 48.1875 4.484375 \nQ 40.765625 -1.421875 27.09375 -1.421875 \nQ 22.515625 -1.421875 17.65625 -0.515625 \nQ 12.796875 0.390625 7.625 2.203125 \nL 7.625 11.71875 \nQ 11.71875 9.328125 16.59375 8.109375 \nQ 21.484375 6.890625 26.8125 6.890625 \nQ 36.078125 6.890625 40.9375 10.546875 \nQ 45.796875 14.203125 45.796875 21.1875 \nQ 45.796875 27.640625 41.28125 31.265625 \nQ 36.765625 34.90625 28.71875 34.90625 \nL 20.21875 34.90625 \nL 20.21875 43.015625 \nL 29.109375 43.015625 \nQ 36.375 43.015625 40.234375 45.921875 \nQ 44.09375 48.828125 44.09375 54.296875 \nQ 44.09375 59.90625 40.109375 62.90625 \nQ 36.140625 65.921875 28.71875 65.921875 \nQ 24.65625 65.921875 20.015625 65.03125 \nQ 15.375 64.15625 9.8125 62.3125 \nL 9.8125 71.09375 \nQ 15.4375 72.65625 20.34375 73.4375 \nQ 25.25 74.21875 29.59375 74.21875 \nQ 40.828125 74.21875 47.359375 69.109375 \nQ 53.90625 64.015625 53.90625 55.328125 \nQ 53.90625 49.265625 50.4375 45.09375 \nQ 46.96875 40.921875 40.578125 39.3125 \nz\n\" id=\"DejaVuSans-51\"/>\n       </defs>\n       <use xlink:href=\"#DejaVuSans-108\"/>\n       <use x=\"27.783203\" xlink:href=\"#DejaVuSans-97\"/>\n       <use x=\"89.0625\" xlink:href=\"#DejaVuSans-115\"/>\n       <use x=\"141.162109\" xlink:href=\"#DejaVuSans-115\"/>\n       <use x=\"193.261719\" xlink:href=\"#DejaVuSans-111\"/>\n       <use x=\"254.443359\" xlink:href=\"#DejaVuSans-95\"/>\n       <use x=\"304.443359\" xlink:href=\"#DejaVuSans-114\"/>\n       <use x=\"343.306641\" xlink:href=\"#DejaVuSans-101\"/>\n       <use x=\"404.830078\" xlink:href=\"#DejaVuSans-103\"/>\n       <use x=\"468.306641\" xlink:href=\"#DejaVuSans-95\"/>\n       <use x=\"518.306641\" xlink:href=\"#DejaVuSans-48\"/>\n       <use x=\"581.929688\" xlink:href=\"#DejaVuSans-46\"/>\n       <use x=\"613.716797\" xlink:href=\"#DejaVuSans-51\"/>\n      </g>\n     </g>\n    </g>\n    <g id=\"xtick_6\">\n     <g id=\"line2d_6\">\n      <g>\n       <use style=\"stroke:#000000;stroke-width:0.8;\" x=\"235.347813\" xlink:href=\"#m2536634998\" y=\"224.64\"/>\n      </g>\n     </g>\n     <g id=\"text_6\">\n      <!-- en_reg_0.3 -->\n      <g transform=\"translate(237.879844 286.42125)rotate(-90)scale(0.1 -0.1)\">\n       <use xlink:href=\"#DejaVuSans-101\"/>\n       <use x=\"61.523438\" xlink:href=\"#DejaVuSans-110\"/>\n       <use x=\"124.902344\" xlink:href=\"#DejaVuSans-95\"/>\n       <use x=\"174.902344\" xlink:href=\"#DejaVuSans-114\"/>\n       <use x=\"213.765625\" xlink:href=\"#DejaVuSans-101\"/>\n       <use x=\"275.289062\" xlink:href=\"#DejaVuSans-103\"/>\n       <use x=\"338.765625\" xlink:href=\"#DejaVuSans-95\"/>\n       <use x=\"388.765625\" xlink:href=\"#DejaVuSans-48\"/>\n       <use x=\"452.388672\" xlink:href=\"#DejaVuSans-46\"/>\n       <use x=\"484.175781\" xlink:href=\"#DejaVuSans-51\"/>\n      </g>\n     </g>\n    </g>\n    <g id=\"xtick_7\">\n     <g id=\"line2d_7\">\n      <g>\n       <use style=\"stroke:#000000;stroke-width:0.8;\" x=\"268.827812\" xlink:href=\"#m2536634998\" y=\"224.64\"/>\n      </g>\n     </g>\n     <g id=\"text_7\">\n      <!-- lasso_reg_0.4 -->\n      <g transform=\"translate(271.448125 299.374375)rotate(-90)scale(0.1 -0.1)\">\n       <defs>\n        <path d=\"M 37.796875 64.3125 \nL 12.890625 25.390625 \nL 37.796875 25.390625 \nz\nM 35.203125 72.90625 \nL 47.609375 72.90625 \nL 47.609375 25.390625 \nL 58.015625 25.390625 \nL 58.015625 17.1875 \nL 47.609375 17.1875 \nL 47.609375 0 \nL 37.796875 0 \nL 37.796875 17.1875 \nL 4.890625 17.1875 \nL 4.890625 26.703125 \nz\n\" id=\"DejaVuSans-52\"/>\n       </defs>\n       <use xlink:href=\"#DejaVuSans-108\"/>\n       <use x=\"27.783203\" xlink:href=\"#DejaVuSans-97\"/>\n       <use x=\"89.0625\" xlink:href=\"#DejaVuSans-115\"/>\n       <use x=\"141.162109\" xlink:href=\"#DejaVuSans-115\"/>\n       <use x=\"193.261719\" xlink:href=\"#DejaVuSans-111\"/>\n       <use x=\"254.443359\" xlink:href=\"#DejaVuSans-95\"/>\n       <use x=\"304.443359\" xlink:href=\"#DejaVuSans-114\"/>\n       <use x=\"343.306641\" xlink:href=\"#DejaVuSans-101\"/>\n       <use x=\"404.830078\" xlink:href=\"#DejaVuSans-103\"/>\n       <use x=\"468.306641\" xlink:href=\"#DejaVuSans-95\"/>\n       <use x=\"518.306641\" xlink:href=\"#DejaVuSans-48\"/>\n       <use x=\"581.929688\" xlink:href=\"#DejaVuSans-46\"/>\n       <use x=\"613.716797\" xlink:href=\"#DejaVuSans-52\"/>\n      </g>\n     </g>\n    </g>\n    <g id=\"xtick_8\">\n     <g id=\"line2d_8\">\n      <g>\n       <use style=\"stroke:#000000;stroke-width:0.8;\" x=\"302.307813\" xlink:href=\"#m2536634998\" y=\"224.64\"/>\n      </g>\n     </g>\n     <g id=\"text_8\">\n      <!-- en_reg_0.4 -->\n      <g transform=\"translate(304.839844 286.42125)rotate(-90)scale(0.1 -0.1)\">\n       <use xlink:href=\"#DejaVuSans-101\"/>\n       <use x=\"61.523438\" xlink:href=\"#DejaVuSans-110\"/>\n       <use x=\"124.902344\" xlink:href=\"#DejaVuSans-95\"/>\n       <use x=\"174.902344\" xlink:href=\"#DejaVuSans-114\"/>\n       <use x=\"213.765625\" xlink:href=\"#DejaVuSans-101\"/>\n       <use x=\"275.289062\" xlink:href=\"#DejaVuSans-103\"/>\n       <use x=\"338.765625\" xlink:href=\"#DejaVuSans-95\"/>\n       <use x=\"388.765625\" xlink:href=\"#DejaVuSans-48\"/>\n       <use x=\"452.388672\" xlink:href=\"#DejaVuSans-46\"/>\n       <use x=\"484.175781\" xlink:href=\"#DejaVuSans-52\"/>\n      </g>\n     </g>\n    </g>\n    <g id=\"xtick_9\">\n     <g id=\"line2d_9\">\n      <g>\n       <use style=\"stroke:#000000;stroke-width:0.8;\" x=\"335.787813\" xlink:href=\"#m2536634998\" y=\"224.64\"/>\n      </g>\n     </g>\n     <g id=\"text_9\">\n      <!-- lasso_reg_0.5 -->\n      <g transform=\"translate(338.408125 299.374375)rotate(-90)scale(0.1 -0.1)\">\n       <defs>\n        <path d=\"M 10.796875 72.90625 \nL 49.515625 72.90625 \nL 49.515625 64.59375 \nL 19.828125 64.59375 \nL 19.828125 46.734375 \nQ 21.96875 47.46875 24.109375 47.828125 \nQ 26.265625 48.1875 28.421875 48.1875 \nQ 40.625 48.1875 47.75 41.5 \nQ 54.890625 34.8125 54.890625 23.390625 \nQ 54.890625 11.625 47.5625 5.09375 \nQ 40.234375 -1.421875 26.90625 -1.421875 \nQ 22.3125 -1.421875 17.546875 -0.640625 \nQ 12.796875 0.140625 7.71875 1.703125 \nL 7.71875 11.625 \nQ 12.109375 9.234375 16.796875 8.0625 \nQ 21.484375 6.890625 26.703125 6.890625 \nQ 35.15625 6.890625 40.078125 11.328125 \nQ 45.015625 15.765625 45.015625 23.390625 \nQ 45.015625 31 40.078125 35.4375 \nQ 35.15625 39.890625 26.703125 39.890625 \nQ 22.75 39.890625 18.8125 39.015625 \nQ 14.890625 38.140625 10.796875 36.28125 \nz\n\" id=\"DejaVuSans-53\"/>\n       </defs>\n       <use xlink:href=\"#DejaVuSans-108\"/>\n       <use x=\"27.783203\" xlink:href=\"#DejaVuSans-97\"/>\n       <use x=\"89.0625\" xlink:href=\"#DejaVuSans-115\"/>\n       <use x=\"141.162109\" xlink:href=\"#DejaVuSans-115\"/>\n       <use x=\"193.261719\" xlink:href=\"#DejaVuSans-111\"/>\n       <use x=\"254.443359\" xlink:href=\"#DejaVuSans-95\"/>\n       <use x=\"304.443359\" xlink:href=\"#DejaVuSans-114\"/>\n       <use x=\"343.306641\" xlink:href=\"#DejaVuSans-101\"/>\n       <use x=\"404.830078\" xlink:href=\"#DejaVuSans-103\"/>\n       <use x=\"468.306641\" xlink:href=\"#DejaVuSans-95\"/>\n       <use x=\"518.306641\" xlink:href=\"#DejaVuSans-48\"/>\n       <use x=\"581.929688\" xlink:href=\"#DejaVuSans-46\"/>\n       <use x=\"613.716797\" xlink:href=\"#DejaVuSans-53\"/>\n      </g>\n     </g>\n    </g>\n    <g id=\"xtick_10\">\n     <g id=\"line2d_10\">\n      <g>\n       <use style=\"stroke:#000000;stroke-width:0.8;\" x=\"369.267813\" xlink:href=\"#m2536634998\" y=\"224.64\"/>\n      </g>\n     </g>\n     <g id=\"text_10\">\n      <!-- en_reg_0.5 -->\n      <g transform=\"translate(371.799844 286.42125)rotate(-90)scale(0.1 -0.1)\">\n       <use xlink:href=\"#DejaVuSans-101\"/>\n       <use x=\"61.523438\" xlink:href=\"#DejaVuSans-110\"/>\n       <use x=\"124.902344\" xlink:href=\"#DejaVuSans-95\"/>\n       <use x=\"174.902344\" xlink:href=\"#DejaVuSans-114\"/>\n       <use x=\"213.765625\" xlink:href=\"#DejaVuSans-101\"/>\n       <use x=\"275.289062\" xlink:href=\"#DejaVuSans-103\"/>\n       <use x=\"338.765625\" xlink:href=\"#DejaVuSans-95\"/>\n       <use x=\"388.765625\" xlink:href=\"#DejaVuSans-48\"/>\n       <use x=\"452.388672\" xlink:href=\"#DejaVuSans-46\"/>\n       <use x=\"484.175781\" xlink:href=\"#DejaVuSans-53\"/>\n      </g>\n     </g>\n    </g>\n   </g>\n   <g id=\"matplotlib.axis_2\">\n    <g id=\"ytick_1\">\n     <g id=\"line2d_11\">\n      <defs>\n       <path d=\"M 0 0 \nL -3.5 0 \n\" id=\"m013adb5866\" style=\"stroke:#000000;stroke-width:0.8;\"/>\n      </defs>\n      <g>\n       <use style=\"stroke:#000000;stroke-width:0.8;\" x=\"51.207813\" xlink:href=\"#m013adb5866\" y=\"196.628476\"/>\n      </g>\n     </g>\n     <g id=\"text_11\">\n      <!-- −0.218 -->\n      <g transform=\"translate(7.2 200.427695)scale(0.1 -0.1)\">\n       <defs>\n        <path d=\"M 10.59375 35.5 \nL 73.1875 35.5 \nL 73.1875 27.203125 \nL 10.59375 27.203125 \nz\n\" id=\"DejaVuSans-8722\"/>\n        <path d=\"M 31.78125 34.625 \nQ 24.75 34.625 20.71875 30.859375 \nQ 16.703125 27.09375 16.703125 20.515625 \nQ 16.703125 13.921875 20.71875 10.15625 \nQ 24.75 6.390625 31.78125 6.390625 \nQ 38.8125 6.390625 42.859375 10.171875 \nQ 46.921875 13.96875 46.921875 20.515625 \nQ 46.921875 27.09375 42.890625 30.859375 \nQ 38.875 34.625 31.78125 34.625 \nz\nM 21.921875 38.8125 \nQ 15.578125 40.375 12.03125 44.71875 \nQ 8.5 49.078125 8.5 55.328125 \nQ 8.5 64.0625 14.71875 69.140625 \nQ 20.953125 74.21875 31.78125 74.21875 \nQ 42.671875 74.21875 48.875 69.140625 \nQ 55.078125 64.0625 55.078125 55.328125 \nQ 55.078125 49.078125 51.53125 44.71875 \nQ 48 40.375 41.703125 38.8125 \nQ 48.828125 37.15625 52.796875 32.3125 \nQ 56.78125 27.484375 56.78125 20.515625 \nQ 56.78125 9.90625 50.3125 4.234375 \nQ 43.84375 -1.421875 31.78125 -1.421875 \nQ 19.734375 -1.421875 13.25 4.234375 \nQ 6.78125 9.90625 6.78125 20.515625 \nQ 6.78125 27.484375 10.78125 32.3125 \nQ 14.796875 37.15625 21.921875 38.8125 \nz\nM 18.3125 54.390625 \nQ 18.3125 48.734375 21.84375 45.5625 \nQ 25.390625 42.390625 31.78125 42.390625 \nQ 38.140625 42.390625 41.71875 45.5625 \nQ 45.3125 48.734375 45.3125 54.390625 \nQ 45.3125 60.0625 41.71875 63.234375 \nQ 38.140625 66.40625 31.78125 66.40625 \nQ 25.390625 66.40625 21.84375 63.234375 \nQ 18.3125 60.0625 18.3125 54.390625 \nz\n\" id=\"DejaVuSans-56\"/>\n       </defs>\n       <use xlink:href=\"#DejaVuSans-8722\"/>\n       <use x=\"83.789062\" xlink:href=\"#DejaVuSans-48\"/>\n       <use x=\"147.412109\" xlink:href=\"#DejaVuSans-46\"/>\n       <use x=\"179.199219\" xlink:href=\"#DejaVuSans-50\"/>\n       <use x=\"242.822266\" xlink:href=\"#DejaVuSans-49\"/>\n       <use x=\"306.445312\" xlink:href=\"#DejaVuSans-56\"/>\n      </g>\n     </g>\n    </g>\n    <g id=\"ytick_2\">\n     <g id=\"line2d_12\">\n      <g>\n       <use style=\"stroke:#000000;stroke-width:0.8;\" x=\"51.207813\" xlink:href=\"#m013adb5866\" y=\"159.896526\"/>\n      </g>\n     </g>\n     <g id=\"text_12\">\n      <!-- −0.216 -->\n      <g transform=\"translate(7.2 163.695745)scale(0.1 -0.1)\">\n       <defs>\n        <path d=\"M 33.015625 40.375 \nQ 26.375 40.375 22.484375 35.828125 \nQ 18.609375 31.296875 18.609375 23.390625 \nQ 18.609375 15.53125 22.484375 10.953125 \nQ 26.375 6.390625 33.015625 6.390625 \nQ 39.65625 6.390625 43.53125 10.953125 \nQ 47.40625 15.53125 47.40625 23.390625 \nQ 47.40625 31.296875 43.53125 35.828125 \nQ 39.65625 40.375 33.015625 40.375 \nz\nM 52.59375 71.296875 \nL 52.59375 62.3125 \nQ 48.875 64.0625 45.09375 64.984375 \nQ 41.3125 65.921875 37.59375 65.921875 \nQ 27.828125 65.921875 22.671875 59.328125 \nQ 17.53125 52.734375 16.796875 39.40625 \nQ 19.671875 43.65625 24.015625 45.921875 \nQ 28.375 48.1875 33.59375 48.1875 \nQ 44.578125 48.1875 50.953125 41.515625 \nQ 57.328125 34.859375 57.328125 23.390625 \nQ 57.328125 12.15625 50.6875 5.359375 \nQ 44.046875 -1.421875 33.015625 -1.421875 \nQ 20.359375 -1.421875 13.671875 8.265625 \nQ 6.984375 17.96875 6.984375 36.375 \nQ 6.984375 53.65625 15.1875 63.9375 \nQ 23.390625 74.21875 37.203125 74.21875 \nQ 40.921875 74.21875 44.703125 73.484375 \nQ 48.484375 72.75 52.59375 71.296875 \nz\n\" id=\"DejaVuSans-54\"/>\n       </defs>\n       <use xlink:href=\"#DejaVuSans-8722\"/>\n       <use x=\"83.789062\" xlink:href=\"#DejaVuSans-48\"/>\n       <use x=\"147.412109\" xlink:href=\"#DejaVuSans-46\"/>\n       <use x=\"179.199219\" xlink:href=\"#DejaVuSans-50\"/>\n       <use x=\"242.822266\" xlink:href=\"#DejaVuSans-49\"/>\n       <use x=\"306.445312\" xlink:href=\"#DejaVuSans-54\"/>\n      </g>\n     </g>\n    </g>\n    <g id=\"ytick_3\">\n     <g id=\"line2d_13\">\n      <g>\n       <use style=\"stroke:#000000;stroke-width:0.8;\" x=\"51.207813\" xlink:href=\"#m013adb5866\" y=\"123.164577\"/>\n      </g>\n     </g>\n     <g id=\"text_13\">\n      <!-- −0.214 -->\n      <g transform=\"translate(7.2 126.963795)scale(0.1 -0.1)\">\n       <use xlink:href=\"#DejaVuSans-8722\"/>\n       <use x=\"83.789062\" xlink:href=\"#DejaVuSans-48\"/>\n       <use x=\"147.412109\" xlink:href=\"#DejaVuSans-46\"/>\n       <use x=\"179.199219\" xlink:href=\"#DejaVuSans-50\"/>\n       <use x=\"242.822266\" xlink:href=\"#DejaVuSans-49\"/>\n       <use x=\"306.445312\" xlink:href=\"#DejaVuSans-52\"/>\n      </g>\n     </g>\n    </g>\n    <g id=\"ytick_4\">\n     <g id=\"line2d_14\">\n      <g>\n       <use style=\"stroke:#000000;stroke-width:0.8;\" x=\"51.207813\" xlink:href=\"#m013adb5866\" y=\"86.432627\"/>\n      </g>\n     </g>\n     <g id=\"text_14\">\n      <!-- −0.212 -->\n      <g transform=\"translate(7.2 90.231846)scale(0.1 -0.1)\">\n       <use xlink:href=\"#DejaVuSans-8722\"/>\n       <use x=\"83.789062\" xlink:href=\"#DejaVuSans-48\"/>\n       <use x=\"147.412109\" xlink:href=\"#DejaVuSans-46\"/>\n       <use x=\"179.199219\" xlink:href=\"#DejaVuSans-50\"/>\n       <use x=\"242.822266\" xlink:href=\"#DejaVuSans-49\"/>\n       <use x=\"306.445312\" xlink:href=\"#DejaVuSans-50\"/>\n      </g>\n     </g>\n    </g>\n    <g id=\"ytick_5\">\n     <g id=\"line2d_15\">\n      <g>\n       <use style=\"stroke:#000000;stroke-width:0.8;\" x=\"51.207813\" xlink:href=\"#m013adb5866\" y=\"49.700677\"/>\n      </g>\n     </g>\n     <g id=\"text_15\">\n      <!-- −0.210 -->\n      <g transform=\"translate(7.2 53.499896)scale(0.1 -0.1)\">\n       <use xlink:href=\"#DejaVuSans-8722\"/>\n       <use x=\"83.789062\" xlink:href=\"#DejaVuSans-48\"/>\n       <use x=\"147.412109\" xlink:href=\"#DejaVuSans-46\"/>\n       <use x=\"179.199219\" xlink:href=\"#DejaVuSans-50\"/>\n       <use x=\"242.822266\" xlink:href=\"#DejaVuSans-49\"/>\n       <use x=\"306.445312\" xlink:href=\"#DejaVuSans-48\"/>\n      </g>\n     </g>\n    </g>\n    <g id=\"ytick_6\">\n     <g id=\"line2d_16\">\n      <g>\n       <use style=\"stroke:#000000;stroke-width:0.8;\" x=\"51.207813\" xlink:href=\"#m013adb5866\" y=\"12.968728\"/>\n      </g>\n     </g>\n     <g id=\"text_16\">\n      <!-- −0.208 -->\n      <g transform=\"translate(7.2 16.767947)scale(0.1 -0.1)\">\n       <use xlink:href=\"#DejaVuSans-8722\"/>\n       <use x=\"83.789062\" xlink:href=\"#DejaVuSans-48\"/>\n       <use x=\"147.412109\" xlink:href=\"#DejaVuSans-46\"/>\n       <use x=\"179.199219\" xlink:href=\"#DejaVuSans-50\"/>\n       <use x=\"242.822266\" xlink:href=\"#DejaVuSans-48\"/>\n       <use x=\"306.445312\" xlink:href=\"#DejaVuSans-56\"/>\n      </g>\n     </g>\n    </g>\n   </g>\n   <g id=\"line2d_17\">\n    <path clip-path=\"url(#pb0096ea43c)\" d=\"M 59.577813 106.335452 \nL 76.317813 106.335452 \nL 76.317813 35.279354 \nL 59.577813 35.279354 \nL 59.577813 106.335452 \n\" style=\"fill:none;stroke:#000000;stroke-linecap:square;\"/>\n   </g>\n   <g id=\"line2d_18\">\n    <path clip-path=\"url(#pb0096ea43c)\" d=\"M 67.947812 106.335452 \nL 67.947812 106.335452 \n\" style=\"fill:none;stroke:#000000;stroke-linecap:square;\"/>\n   </g>\n   <g id=\"line2d_19\">\n    <path clip-path=\"url(#pb0096ea43c)\" d=\"M 67.947812 35.279354 \nL 67.947812 17.083636 \n\" style=\"fill:none;stroke:#000000;stroke-linecap:square;\"/>\n   </g>\n   <g id=\"line2d_20\">\n    <path clip-path=\"url(#pb0096ea43c)\" d=\"M 63.762813 106.335452 \nL 72.132812 106.335452 \n\" style=\"fill:none;stroke:#000000;stroke-linecap:square;\"/>\n   </g>\n   <g id=\"line2d_21\">\n    <path clip-path=\"url(#pb0096ea43c)\" d=\"M 63.762813 17.083636 \nL 72.132812 17.083636 \n\" style=\"fill:none;stroke:#000000;stroke-linecap:square;\"/>\n   </g>\n   <g id=\"line2d_22\">\n    <defs>\n     <path d=\"M 0 3 \nC 0.795609 3 1.55874 2.683901 2.12132 2.12132 \nC 2.683901 1.55874 3 0.795609 3 0 \nC 3 -0.795609 2.683901 -1.55874 2.12132 -2.12132 \nC 1.55874 -2.683901 0.795609 -3 0 -3 \nC -0.795609 -3 -1.55874 -2.683901 -2.12132 -2.12132 \nC -2.683901 -1.55874 -3 -0.795609 -3 0 \nC -3 0.795609 -2.683901 1.55874 -2.12132 2.12132 \nC -1.55874 2.683901 -0.795609 3 0 3 \nz\n\" id=\"mf42c39687e\" style=\"stroke:#000000;\"/>\n    </defs>\n    <g clip-path=\"url(#pb0096ea43c)\">\n     <use style=\"fill-opacity:0;stroke:#000000;\" x=\"67.947812\" xlink:href=\"#mf42c39687e\" y=\"214.756364\"/>\n    </g>\n   </g>\n   <g id=\"line2d_23\">\n    <path clip-path=\"url(#pb0096ea43c)\" d=\"M 93.057813 106.335452 \nL 109.797813 106.335452 \nL 109.797813 35.279354 \nL 93.057813 35.279354 \nL 93.057813 106.335452 \n\" style=\"fill:none;stroke:#000000;stroke-linecap:square;\"/>\n   </g>\n   <g id=\"line2d_24\">\n    <path clip-path=\"url(#pb0096ea43c)\" d=\"M 101.427813 106.335452 \nL 101.427813 106.335452 \n\" style=\"fill:none;stroke:#000000;stroke-linecap:square;\"/>\n   </g>\n   <g id=\"line2d_25\">\n    <path clip-path=\"url(#pb0096ea43c)\" d=\"M 101.427813 35.279354 \nL 101.427813 17.083636 \n\" style=\"fill:none;stroke:#000000;stroke-linecap:square;\"/>\n   </g>\n   <g id=\"line2d_26\">\n    <path clip-path=\"url(#pb0096ea43c)\" d=\"M 97.242813 106.335452 \nL 105.612813 106.335452 \n\" style=\"fill:none;stroke:#000000;stroke-linecap:square;\"/>\n   </g>\n   <g id=\"line2d_27\">\n    <path clip-path=\"url(#pb0096ea43c)\" d=\"M 97.242813 17.083636 \nL 105.612813 17.083636 \n\" style=\"fill:none;stroke:#000000;stroke-linecap:square;\"/>\n   </g>\n   <g id=\"line2d_28\">\n    <g clip-path=\"url(#pb0096ea43c)\">\n     <use style=\"fill-opacity:0;stroke:#000000;\" x=\"101.427813\" xlink:href=\"#mf42c39687e\" y=\"214.756364\"/>\n    </g>\n   </g>\n   <g id=\"line2d_29\">\n    <path clip-path=\"url(#pb0096ea43c)\" d=\"M 126.537813 106.335452 \nL 143.277813 106.335452 \nL 143.277813 35.279354 \nL 126.537813 35.279354 \nL 126.537813 106.335452 \n\" style=\"fill:none;stroke:#000000;stroke-linecap:square;\"/>\n   </g>\n   <g id=\"line2d_30\">\n    <path clip-path=\"url(#pb0096ea43c)\" d=\"M 134.907813 106.335452 \nL 134.907813 106.335452 \n\" style=\"fill:none;stroke:#000000;stroke-linecap:square;\"/>\n   </g>\n   <g id=\"line2d_31\">\n    <path clip-path=\"url(#pb0096ea43c)\" d=\"M 134.907813 35.279354 \nL 134.907813 17.083636 \n\" style=\"fill:none;stroke:#000000;stroke-linecap:square;\"/>\n   </g>\n   <g id=\"line2d_32\">\n    <path clip-path=\"url(#pb0096ea43c)\" d=\"M 130.722813 106.335452 \nL 139.092813 106.335452 \n\" style=\"fill:none;stroke:#000000;stroke-linecap:square;\"/>\n   </g>\n   <g id=\"line2d_33\">\n    <path clip-path=\"url(#pb0096ea43c)\" d=\"M 130.722813 17.083636 \nL 139.092813 17.083636 \n\" style=\"fill:none;stroke:#000000;stroke-linecap:square;\"/>\n   </g>\n   <g id=\"line2d_34\">\n    <g clip-path=\"url(#pb0096ea43c)\">\n     <use style=\"fill-opacity:0;stroke:#000000;\" x=\"134.907813\" xlink:href=\"#mf42c39687e\" y=\"214.756364\"/>\n    </g>\n   </g>\n   <g id=\"line2d_35\">\n    <path clip-path=\"url(#pb0096ea43c)\" d=\"M 160.017813 106.335452 \nL 176.757813 106.335452 \nL 176.757813 35.279354 \nL 160.017813 35.279354 \nL 160.017813 106.335452 \n\" style=\"fill:none;stroke:#000000;stroke-linecap:square;\"/>\n   </g>\n   <g id=\"line2d_36\">\n    <path clip-path=\"url(#pb0096ea43c)\" d=\"M 168.387813 106.335452 \nL 168.387813 106.335452 \n\" style=\"fill:none;stroke:#000000;stroke-linecap:square;\"/>\n   </g>\n   <g id=\"line2d_37\">\n    <path clip-path=\"url(#pb0096ea43c)\" d=\"M 168.387813 35.279354 \nL 168.387813 17.083636 \n\" style=\"fill:none;stroke:#000000;stroke-linecap:square;\"/>\n   </g>\n   <g id=\"line2d_38\">\n    <path clip-path=\"url(#pb0096ea43c)\" d=\"M 164.202813 106.335452 \nL 172.572813 106.335452 \n\" style=\"fill:none;stroke:#000000;stroke-linecap:square;\"/>\n   </g>\n   <g id=\"line2d_39\">\n    <path clip-path=\"url(#pb0096ea43c)\" d=\"M 164.202813 17.083636 \nL 172.572813 17.083636 \n\" style=\"fill:none;stroke:#000000;stroke-linecap:square;\"/>\n   </g>\n   <g id=\"line2d_40\">\n    <g clip-path=\"url(#pb0096ea43c)\">\n     <use style=\"fill-opacity:0;stroke:#000000;\" x=\"168.387813\" xlink:href=\"#mf42c39687e\" y=\"214.756364\"/>\n    </g>\n   </g>\n   <g id=\"line2d_41\">\n    <path clip-path=\"url(#pb0096ea43c)\" d=\"M 193.497813 106.335452 \nL 210.237813 106.335452 \nL 210.237813 35.279354 \nL 193.497813 35.279354 \nL 193.497813 106.335452 \n\" style=\"fill:none;stroke:#000000;stroke-linecap:square;\"/>\n   </g>\n   <g id=\"line2d_42\">\n    <path clip-path=\"url(#pb0096ea43c)\" d=\"M 201.867813 106.335452 \nL 201.867813 106.335452 \n\" style=\"fill:none;stroke:#000000;stroke-linecap:square;\"/>\n   </g>\n   <g id=\"line2d_43\">\n    <path clip-path=\"url(#pb0096ea43c)\" d=\"M 201.867813 35.279354 \nL 201.867813 17.083636 \n\" style=\"fill:none;stroke:#000000;stroke-linecap:square;\"/>\n   </g>\n   <g id=\"line2d_44\">\n    <path clip-path=\"url(#pb0096ea43c)\" d=\"M 197.682813 106.335452 \nL 206.052813 106.335452 \n\" style=\"fill:none;stroke:#000000;stroke-linecap:square;\"/>\n   </g>\n   <g id=\"line2d_45\">\n    <path clip-path=\"url(#pb0096ea43c)\" d=\"M 197.682813 17.083636 \nL 206.052813 17.083636 \n\" style=\"fill:none;stroke:#000000;stroke-linecap:square;\"/>\n   </g>\n   <g id=\"line2d_46\">\n    <g clip-path=\"url(#pb0096ea43c)\">\n     <use style=\"fill-opacity:0;stroke:#000000;\" x=\"201.867813\" xlink:href=\"#mf42c39687e\" y=\"214.756364\"/>\n    </g>\n   </g>\n   <g id=\"line2d_47\">\n    <path clip-path=\"url(#pb0096ea43c)\" d=\"M 226.977813 106.335452 \nL 243.717813 106.335452 \nL 243.717813 35.279354 \nL 226.977813 35.279354 \nL 226.977813 106.335452 \n\" style=\"fill:none;stroke:#000000;stroke-linecap:square;\"/>\n   </g>\n   <g id=\"line2d_48\">\n    <path clip-path=\"url(#pb0096ea43c)\" d=\"M 235.347813 106.335452 \nL 235.347813 106.335452 \n\" style=\"fill:none;stroke:#000000;stroke-linecap:square;\"/>\n   </g>\n   <g id=\"line2d_49\">\n    <path clip-path=\"url(#pb0096ea43c)\" d=\"M 235.347813 35.279354 \nL 235.347813 17.083636 \n\" style=\"fill:none;stroke:#000000;stroke-linecap:square;\"/>\n   </g>\n   <g id=\"line2d_50\">\n    <path clip-path=\"url(#pb0096ea43c)\" d=\"M 231.162813 106.335452 \nL 239.532813 106.335452 \n\" style=\"fill:none;stroke:#000000;stroke-linecap:square;\"/>\n   </g>\n   <g id=\"line2d_51\">\n    <path clip-path=\"url(#pb0096ea43c)\" d=\"M 231.162813 17.083636 \nL 239.532813 17.083636 \n\" style=\"fill:none;stroke:#000000;stroke-linecap:square;\"/>\n   </g>\n   <g id=\"line2d_52\">\n    <g clip-path=\"url(#pb0096ea43c)\">\n     <use style=\"fill-opacity:0;stroke:#000000;\" x=\"235.347813\" xlink:href=\"#mf42c39687e\" y=\"214.756364\"/>\n    </g>\n   </g>\n   <g id=\"line2d_53\">\n    <path clip-path=\"url(#pb0096ea43c)\" d=\"M 260.457813 106.335452 \nL 277.197812 106.335452 \nL 277.197812 35.279354 \nL 260.457813 35.279354 \nL 260.457813 106.335452 \n\" style=\"fill:none;stroke:#000000;stroke-linecap:square;\"/>\n   </g>\n   <g id=\"line2d_54\">\n    <path clip-path=\"url(#pb0096ea43c)\" d=\"M 268.827812 106.335452 \nL 268.827812 106.335452 \n\" style=\"fill:none;stroke:#000000;stroke-linecap:square;\"/>\n   </g>\n   <g id=\"line2d_55\">\n    <path clip-path=\"url(#pb0096ea43c)\" d=\"M 268.827812 35.279354 \nL 268.827812 17.083636 \n\" style=\"fill:none;stroke:#000000;stroke-linecap:square;\"/>\n   </g>\n   <g id=\"line2d_56\">\n    <path clip-path=\"url(#pb0096ea43c)\" d=\"M 264.642813 106.335452 \nL 273.012812 106.335452 \n\" style=\"fill:none;stroke:#000000;stroke-linecap:square;\"/>\n   </g>\n   <g id=\"line2d_57\">\n    <path clip-path=\"url(#pb0096ea43c)\" d=\"M 264.642813 17.083636 \nL 273.012812 17.083636 \n\" style=\"fill:none;stroke:#000000;stroke-linecap:square;\"/>\n   </g>\n   <g id=\"line2d_58\">\n    <g clip-path=\"url(#pb0096ea43c)\">\n     <use style=\"fill-opacity:0;stroke:#000000;\" x=\"268.827812\" xlink:href=\"#mf42c39687e\" y=\"214.756364\"/>\n    </g>\n   </g>\n   <g id=\"line2d_59\">\n    <path clip-path=\"url(#pb0096ea43c)\" d=\"M 293.937813 106.335452 \nL 310.677813 106.335452 \nL 310.677813 35.279354 \nL 293.937813 35.279354 \nL 293.937813 106.335452 \n\" style=\"fill:none;stroke:#000000;stroke-linecap:square;\"/>\n   </g>\n   <g id=\"line2d_60\">\n    <path clip-path=\"url(#pb0096ea43c)\" d=\"M 302.307813 106.335452 \nL 302.307813 106.335452 \n\" style=\"fill:none;stroke:#000000;stroke-linecap:square;\"/>\n   </g>\n   <g id=\"line2d_61\">\n    <path clip-path=\"url(#pb0096ea43c)\" d=\"M 302.307813 35.279354 \nL 302.307813 17.083636 \n\" style=\"fill:none;stroke:#000000;stroke-linecap:square;\"/>\n   </g>\n   <g id=\"line2d_62\">\n    <path clip-path=\"url(#pb0096ea43c)\" d=\"M 298.122813 106.335452 \nL 306.492813 106.335452 \n\" style=\"fill:none;stroke:#000000;stroke-linecap:square;\"/>\n   </g>\n   <g id=\"line2d_63\">\n    <path clip-path=\"url(#pb0096ea43c)\" d=\"M 298.122813 17.083636 \nL 306.492813 17.083636 \n\" style=\"fill:none;stroke:#000000;stroke-linecap:square;\"/>\n   </g>\n   <g id=\"line2d_64\">\n    <g clip-path=\"url(#pb0096ea43c)\">\n     <use style=\"fill-opacity:0;stroke:#000000;\" x=\"302.307813\" xlink:href=\"#mf42c39687e\" y=\"214.756364\"/>\n    </g>\n   </g>\n   <g id=\"line2d_65\">\n    <path clip-path=\"url(#pb0096ea43c)\" d=\"M 327.417813 106.335452 \nL 344.157813 106.335452 \nL 344.157813 35.279354 \nL 327.417813 35.279354 \nL 327.417813 106.335452 \n\" style=\"fill:none;stroke:#000000;stroke-linecap:square;\"/>\n   </g>\n   <g id=\"line2d_66\">\n    <path clip-path=\"url(#pb0096ea43c)\" d=\"M 335.787813 106.335452 \nL 335.787813 106.335452 \n\" style=\"fill:none;stroke:#000000;stroke-linecap:square;\"/>\n   </g>\n   <g id=\"line2d_67\">\n    <path clip-path=\"url(#pb0096ea43c)\" d=\"M 335.787813 35.279354 \nL 335.787813 17.083636 \n\" style=\"fill:none;stroke:#000000;stroke-linecap:square;\"/>\n   </g>\n   <g id=\"line2d_68\">\n    <path clip-path=\"url(#pb0096ea43c)\" d=\"M 331.602813 106.335452 \nL 339.972813 106.335452 \n\" style=\"fill:none;stroke:#000000;stroke-linecap:square;\"/>\n   </g>\n   <g id=\"line2d_69\">\n    <path clip-path=\"url(#pb0096ea43c)\" d=\"M 331.602813 17.083636 \nL 339.972813 17.083636 \n\" style=\"fill:none;stroke:#000000;stroke-linecap:square;\"/>\n   </g>\n   <g id=\"line2d_70\">\n    <g clip-path=\"url(#pb0096ea43c)\">\n     <use style=\"fill-opacity:0;stroke:#000000;\" x=\"335.787813\" xlink:href=\"#mf42c39687e\" y=\"214.756364\"/>\n    </g>\n   </g>\n   <g id=\"line2d_71\">\n    <path clip-path=\"url(#pb0096ea43c)\" d=\"M 360.897813 106.335452 \nL 377.637812 106.335452 \nL 377.637812 35.279354 \nL 360.897813 35.279354 \nL 360.897813 106.335452 \n\" style=\"fill:none;stroke:#000000;stroke-linecap:square;\"/>\n   </g>\n   <g id=\"line2d_72\">\n    <path clip-path=\"url(#pb0096ea43c)\" d=\"M 369.267813 106.335452 \nL 369.267813 106.335452 \n\" style=\"fill:none;stroke:#000000;stroke-linecap:square;\"/>\n   </g>\n   <g id=\"line2d_73\">\n    <path clip-path=\"url(#pb0096ea43c)\" d=\"M 369.267813 35.279354 \nL 369.267813 17.083636 \n\" style=\"fill:none;stroke:#000000;stroke-linecap:square;\"/>\n   </g>\n   <g id=\"line2d_74\">\n    <path clip-path=\"url(#pb0096ea43c)\" d=\"M 365.082813 106.335452 \nL 373.452812 106.335452 \n\" style=\"fill:none;stroke:#000000;stroke-linecap:square;\"/>\n   </g>\n   <g id=\"line2d_75\">\n    <path clip-path=\"url(#pb0096ea43c)\" d=\"M 365.082813 17.083636 \nL 373.452812 17.083636 \n\" style=\"fill:none;stroke:#000000;stroke-linecap:square;\"/>\n   </g>\n   <g id=\"line2d_76\">\n    <g clip-path=\"url(#pb0096ea43c)\">\n     <use style=\"fill-opacity:0;stroke:#000000;\" x=\"369.267813\" xlink:href=\"#mf42c39687e\" y=\"214.756364\"/>\n    </g>\n   </g>\n   <g id=\"line2d_77\">\n    <path clip-path=\"url(#pb0096ea43c)\" d=\"M 59.577813 99.729697 \nL 76.317813 99.729697 \n\" style=\"fill:none;stroke:#ff7f0e;stroke-linecap:square;\"/>\n   </g>\n   <g id=\"line2d_78\">\n    <path clip-path=\"url(#pb0096ea43c)\" d=\"M 93.057813 99.729697 \nL 109.797813 99.729697 \n\" style=\"fill:none;stroke:#ff7f0e;stroke-linecap:square;\"/>\n   </g>\n   <g id=\"line2d_79\">\n    <path clip-path=\"url(#pb0096ea43c)\" d=\"M 126.537813 99.729697 \nL 143.277813 99.729697 \n\" style=\"fill:none;stroke:#ff7f0e;stroke-linecap:square;\"/>\n   </g>\n   <g id=\"line2d_80\">\n    <path clip-path=\"url(#pb0096ea43c)\" d=\"M 160.017813 99.729697 \nL 176.757813 99.729697 \n\" style=\"fill:none;stroke:#ff7f0e;stroke-linecap:square;\"/>\n   </g>\n   <g id=\"line2d_81\">\n    <path clip-path=\"url(#pb0096ea43c)\" d=\"M 193.497813 99.729697 \nL 210.237813 99.729697 \n\" style=\"fill:none;stroke:#ff7f0e;stroke-linecap:square;\"/>\n   </g>\n   <g id=\"line2d_82\">\n    <path clip-path=\"url(#pb0096ea43c)\" d=\"M 226.977813 99.729697 \nL 243.717813 99.729697 \n\" style=\"fill:none;stroke:#ff7f0e;stroke-linecap:square;\"/>\n   </g>\n   <g id=\"line2d_83\">\n    <path clip-path=\"url(#pb0096ea43c)\" d=\"M 260.457813 99.729697 \nL 277.197812 99.729697 \n\" style=\"fill:none;stroke:#ff7f0e;stroke-linecap:square;\"/>\n   </g>\n   <g id=\"line2d_84\">\n    <path clip-path=\"url(#pb0096ea43c)\" d=\"M 293.937813 99.729697 \nL 310.677813 99.729697 \n\" style=\"fill:none;stroke:#ff7f0e;stroke-linecap:square;\"/>\n   </g>\n   <g id=\"line2d_85\">\n    <path clip-path=\"url(#pb0096ea43c)\" d=\"M 327.417813 99.729697 \nL 344.157813 99.729697 \n\" style=\"fill:none;stroke:#ff7f0e;stroke-linecap:square;\"/>\n   </g>\n   <g id=\"line2d_86\">\n    <path clip-path=\"url(#pb0096ea43c)\" d=\"M 360.897813 99.729697 \nL 377.637812 99.729697 \n\" style=\"fill:none;stroke:#ff7f0e;stroke-linecap:square;\"/>\n   </g>\n   <g id=\"patch_3\">\n    <path d=\"M 51.207813 224.64 \nL 51.207813 7.2 \n\" style=\"fill:none;stroke:#000000;stroke-linecap:square;stroke-linejoin:miter;stroke-width:0.8;\"/>\n   </g>\n   <g id=\"patch_4\">\n    <path d=\"M 386.007812 224.64 \nL 386.007812 7.2 \n\" style=\"fill:none;stroke:#000000;stroke-linecap:square;stroke-linejoin:miter;stroke-width:0.8;\"/>\n   </g>\n   <g id=\"patch_5\">\n    <path d=\"M 51.207813 224.64 \nL 386.007812 224.64 \n\" style=\"fill:none;stroke:#000000;stroke-linecap:square;stroke-linejoin:miter;stroke-width:0.8;\"/>\n   </g>\n   <g id=\"patch_6\">\n    <path d=\"M 51.207813 7.2 \nL 386.007812 7.2 \n\" style=\"fill:none;stroke:#000000;stroke-linecap:square;stroke-linejoin:miter;stroke-width:0.8;\"/>\n   </g>\n  </g>\n </g>\n <defs>\n  <clipPath id=\"pb0096ea43c\">\n   <rect height=\"217.44\" width=\"334.8\" x=\"51.207813\" y=\"7.2\"/>\n  </clipPath>\n </defs>\n</svg>\n",
      "image/png": "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\n"
     },
     "metadata": {
      "needs_background": "light"
     }
    }
   ],
   "source": [
    "summarize_results(results)"
   ]
  },
  {
   "cell_type": "code",
   "execution_count": null,
   "metadata": {},
   "outputs": [],
   "source": []
  },
  {
   "source": [
    "The Senior Developer took you aside and said: “My task is to deploy your model to\n",
    "production. But I cannot deploy a paper-report. I need your code. However, remember that I am\n",
    "not a Data Scientist list you. I have a different expertise. I will read your code, but you should\n",
    "make sure that I can follow and understand it – and that I know how to use it.”\n",
    "\n",
    "\n",
    "Hint: In the ideal case, people should be able to take your code, run it and recreate all your results. In a less ideal case, it should be a **demonstration of typical run**. The code should **demonstrate your approach end-to-end**. People should just specify the path to the dataset, run it and see final results. Another name for this is a technical demo. At your future work, you might be quite often asked to demo your results. People will expect you to present an end-to- end example where you read the raw data, train your model and evaluate the results of the predictions."
   ],
   "cell_type": "markdown",
   "metadata": {}
  },
  {
   "cell_type": "code",
   "execution_count": null,
   "metadata": {},
   "outputs": [],
   "source": []
  }
 ]
}