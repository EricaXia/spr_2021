{
 "cells": [
  {
   "cell_type": "markdown",
   "id": "martial-liquid",
   "metadata": {},
   "source": [
    "## PS 2 - Logistic Regression Classification\n",
    "### \"Whether or not patient should receive a treatment based on medical data\"\n",
    "### Deadline: **Thursday, February 25, 2021, 10 A.M PT**"
   ]
  },
  {
   "cell_type": "markdown",
   "id": "rapid-brake",
   "metadata": {},
   "source": [
    "I want you to design a model, that can **classify if a certain treatment is recommended for the patient or not**.\n",
    "Additionally, there are 4 additional features (denoted as MeasureA, TestB, GeneA and GeneB\n",
    "in your dataset) that we can use. However, they are really expensive and difficult to collect. I\n",
    "want you to assess how useful they are. \n",
    "\n",
    "Hint: Your boss called your task “proof-of-concept”, but in fact, the nature of that assignment is the same\n",
    "as the last time. You are asked to **train a classification model and you must measure how good that model\n",
    "is**. Additionally, you must give **recommendations which features are important to collect**. You should look\n",
    "at all variables, but at minimum, you should **test the importance of MeasureA, TestB, GeneA, and\n",
    "GeneB**."
   ]
  },
  {
   "cell_type": "markdown",
   "id": "sustained-ticket",
   "metadata": {},
   "source": [
    "Your Technical Manager said: “This time it really matters, that your model has a good\n",
    "performance. If we can show that our model makes less mistakes than a human doctor, it would\n",
    "be a big deal. Describe exactly how you tested your model. They are really going to look at that\n",
    "section. Additionally, similar to the last time, the interpretability of the model is very important.\n",
    "You should **restrict yourself to logistic regression.**\n",
    "\n",
    "Hint: Remember, that accuracy alone, is not a good measure. We care both, about **accuracy, precision\n",
    "and F1-score**. Report also **false positive and false negative**. To choose a right model, you can use for\n",
    "example the **AUC score**. It is ok (it's even expected) that you will do some **feature engineering**. You can\n",
    "also try to add **regularization to your logistic regression** and test if it helps you or not. To show that the\n",
    "model can be interpreted, you can **identify and explain the most important relations between the variables\n",
    "and the expected outcome** (e.g., how the probability that the treatment is recommended changes with\n",
    "age? Or gender?)."
   ]
  },
  {
   "cell_type": "code",
   "execution_count": 16,
   "id": "stock-stuff",
   "metadata": {},
   "outputs": [],
   "source": [
    "import warnings\n",
    "warnings.filterwarnings('ignore')\n",
    "\n",
    "import pandas as pd \n",
    "import numpy as np \n",
    "import matplotlib.pyplot as plt \n",
    "import seaborn as sns\n",
    "import scipy as sp \n",
    "\n",
    "from sklearn.pipeline import Pipeline, TransformerMixin\n",
    "from sklearn.impute import SimpleImputer\n",
    "from sklearn.preprocessing import StandardScaler, MinMaxScaler\n",
    "from sklearn.compose import ColumnTransformer\n",
    "from sklearn.preprocessing import OneHotEncoder\n",
    "\n",
    "## modeling\n",
    "from sklearn.model_selection import train_test_split\n",
    "from sklearn.linear_model import LogisticRegression"
   ]
  },
  {
   "cell_type": "code",
   "execution_count": 2,
   "id": "short-cylinder",
   "metadata": {},
   "outputs": [],
   "source": [
    "df = pd.read_csv('../data/ps2_public.csv')"
   ]
  },
  {
   "cell_type": "code",
   "execution_count": 5,
   "id": "fitted-hungarian",
   "metadata": {},
   "outputs": [
    {
     "data": {
      "text/html": [
       "<div>\n",
       "<style scoped>\n",
       "    .dataframe tbody tr th:only-of-type {\n",
       "        vertical-align: middle;\n",
       "    }\n",
       "\n",
       "    .dataframe tbody tr th {\n",
       "        vertical-align: top;\n",
       "    }\n",
       "\n",
       "    .dataframe thead th {\n",
       "        text-align: right;\n",
       "    }\n",
       "</style>\n",
       "<table border=\"1\" class=\"dataframe\">\n",
       "  <thead>\n",
       "    <tr style=\"text-align: right;\">\n",
       "      <th></th>\n",
       "      <th>treatment</th>\n",
       "      <th>age</th>\n",
       "      <th>blood_pressure</th>\n",
       "      <th>gender</th>\n",
       "      <th>blood_test</th>\n",
       "      <th>family_history</th>\n",
       "      <th>TestA</th>\n",
       "      <th>TestB</th>\n",
       "      <th>GeneC</th>\n",
       "      <th>GeneD</th>\n",
       "      <th>GeneE</th>\n",
       "      <th>GeneF</th>\n",
       "    </tr>\n",
       "  </thead>\n",
       "  <tbody>\n",
       "    <tr>\n",
       "      <th>0</th>\n",
       "      <td>0</td>\n",
       "      <td>64</td>\n",
       "      <td>103.820809</td>\n",
       "      <td>non-female</td>\n",
       "      <td>negative</td>\n",
       "      <td>False</td>\n",
       "      <td>4.334376</td>\n",
       "      <td>0.324374</td>\n",
       "      <td>not active</td>\n",
       "      <td>1</td>\n",
       "      <td>1</td>\n",
       "      <td>0</td>\n",
       "    </tr>\n",
       "    <tr>\n",
       "      <th>1</th>\n",
       "      <td>0</td>\n",
       "      <td>52</td>\n",
       "      <td>107.071369</td>\n",
       "      <td>female</td>\n",
       "      <td>negative</td>\n",
       "      <td>False</td>\n",
       "      <td>0.361847</td>\n",
       "      <td>-0.213014</td>\n",
       "      <td>active</td>\n",
       "      <td>1</td>\n",
       "      <td>0</td>\n",
       "      <td>0</td>\n",
       "    </tr>\n",
       "    <tr>\n",
       "      <th>2</th>\n",
       "      <td>1</td>\n",
       "      <td>55</td>\n",
       "      <td>113.116130</td>\n",
       "      <td>female</td>\n",
       "      <td>positive</td>\n",
       "      <td>False</td>\n",
       "      <td>3.611842</td>\n",
       "      <td>-0.071740</td>\n",
       "      <td>not active</td>\n",
       "      <td>0</td>\n",
       "      <td>0</td>\n",
       "      <td>1</td>\n",
       "    </tr>\n",
       "    <tr>\n",
       "      <th>3</th>\n",
       "      <td>0</td>\n",
       "      <td>45</td>\n",
       "      <td>83.760932</td>\n",
       "      <td>female</td>\n",
       "      <td>negative</td>\n",
       "      <td>NaN</td>\n",
       "      <td>-5.282537</td>\n",
       "      <td>-0.237121</td>\n",
       "      <td>active</td>\n",
       "      <td>0</td>\n",
       "      <td>0</td>\n",
       "      <td>0</td>\n",
       "    </tr>\n",
       "    <tr>\n",
       "      <th>4</th>\n",
       "      <td>0</td>\n",
       "      <td>58</td>\n",
       "      <td>131.135933</td>\n",
       "      <td>female</td>\n",
       "      <td>negative</td>\n",
       "      <td>False</td>\n",
       "      <td>2.787207</td>\n",
       "      <td>0.195470</td>\n",
       "      <td>not active</td>\n",
       "      <td>0</td>\n",
       "      <td>1</td>\n",
       "      <td>1</td>\n",
       "    </tr>\n",
       "  </tbody>\n",
       "</table>\n",
       "</div>"
      ],
      "text/plain": [
       "   treatment  age  blood_pressure      gender blood_test family_history  \\\n",
       "0          0   64      103.820809  non-female   negative          False   \n",
       "1          0   52      107.071369      female   negative          False   \n",
       "2          1   55      113.116130      female   positive          False   \n",
       "3          0   45       83.760932      female   negative            NaN   \n",
       "4          0   58      131.135933      female   negative          False   \n",
       "\n",
       "      TestA     TestB       GeneC  GeneD  GeneE  GeneF  \n",
       "0  4.334376  0.324374  not active      1      1      0  \n",
       "1  0.361847 -0.213014      active      1      0      0  \n",
       "2  3.611842 -0.071740  not active      0      0      1  \n",
       "3 -5.282537 -0.237121      active      0      0      0  \n",
       "4  2.787207  0.195470  not active      0      1      1  "
      ]
     },
     "execution_count": 5,
     "metadata": {},
     "output_type": "execute_result"
    }
   ],
   "source": [
    "df.head()"
   ]
  },
  {
   "cell_type": "code",
   "execution_count": 6,
   "id": "faced-terminology",
   "metadata": {},
   "outputs": [
    {
     "data": {
      "text/plain": [
       "(7500, 12)"
      ]
     },
     "execution_count": 6,
     "metadata": {},
     "output_type": "execute_result"
    }
   ],
   "source": [
    "df.shape"
   ]
  },
  {
   "cell_type": "code",
   "execution_count": 7,
   "id": "knowing-modern",
   "metadata": {},
   "outputs": [
    {
     "name": "stdout",
     "output_type": "stream",
     "text": [
      "<class 'pandas.core.frame.DataFrame'>\n",
      "RangeIndex: 7500 entries, 0 to 7499\n",
      "Data columns (total 12 columns):\n",
      " #   Column          Non-Null Count  Dtype  \n",
      "---  ------          --------------  -----  \n",
      " 0   treatment       7500 non-null   int64  \n",
      " 1   age             7500 non-null   int64  \n",
      " 2   blood_pressure  7500 non-null   float64\n",
      " 3   gender          7500 non-null   object \n",
      " 4   blood_test      7500 non-null   object \n",
      " 5   family_history  4893 non-null   object \n",
      " 6   TestA           7500 non-null   float64\n",
      " 7   TestB           7500 non-null   float64\n",
      " 8   GeneC           7500 non-null   object \n",
      " 9   GeneD           7500 non-null   int64  \n",
      " 10  GeneE           7500 non-null   int64  \n",
      " 11  GeneF           7500 non-null   int64  \n",
      "dtypes: float64(3), int64(5), object(4)\n",
      "memory usage: 703.2+ KB\n"
     ]
    }
   ],
   "source": [
    "df.info()"
   ]
  },
  {
   "cell_type": "code",
   "execution_count": 8,
   "id": "oriental-deadline",
   "metadata": {},
   "outputs": [
    {
     "data": {
      "text/html": [
       "<div>\n",
       "<style scoped>\n",
       "    .dataframe tbody tr th:only-of-type {\n",
       "        vertical-align: middle;\n",
       "    }\n",
       "\n",
       "    .dataframe tbody tr th {\n",
       "        vertical-align: top;\n",
       "    }\n",
       "\n",
       "    .dataframe thead th {\n",
       "        text-align: right;\n",
       "    }\n",
       "</style>\n",
       "<table border=\"1\" class=\"dataframe\">\n",
       "  <thead>\n",
       "    <tr style=\"text-align: right;\">\n",
       "      <th></th>\n",
       "      <th>treatment</th>\n",
       "      <th>age</th>\n",
       "      <th>blood_pressure</th>\n",
       "      <th>TestA</th>\n",
       "      <th>TestB</th>\n",
       "      <th>GeneD</th>\n",
       "      <th>GeneE</th>\n",
       "      <th>GeneF</th>\n",
       "    </tr>\n",
       "  </thead>\n",
       "  <tbody>\n",
       "    <tr>\n",
       "      <th>count</th>\n",
       "      <td>7500.000000</td>\n",
       "      <td>7500.000000</td>\n",
       "      <td>7500.000000</td>\n",
       "      <td>7500.000000</td>\n",
       "      <td>7500.000000</td>\n",
       "      <td>7500.000000</td>\n",
       "      <td>7500.000000</td>\n",
       "      <td>7500.000000</td>\n",
       "    </tr>\n",
       "    <tr>\n",
       "      <th>mean</th>\n",
       "      <td>0.552533</td>\n",
       "      <td>59.978000</td>\n",
       "      <td>101.023910</td>\n",
       "      <td>3.983448</td>\n",
       "      <td>-0.000590</td>\n",
       "      <td>0.549467</td>\n",
       "      <td>0.550667</td>\n",
       "      <td>0.551200</td>\n",
       "    </tr>\n",
       "    <tr>\n",
       "      <th>std</th>\n",
       "      <td>0.497266</td>\n",
       "      <td>8.100115</td>\n",
       "      <td>36.128945</td>\n",
       "      <td>4.162343</td>\n",
       "      <td>0.171500</td>\n",
       "      <td>0.497580</td>\n",
       "      <td>0.497459</td>\n",
       "      <td>0.497405</td>\n",
       "    </tr>\n",
       "    <tr>\n",
       "      <th>min</th>\n",
       "      <td>0.000000</td>\n",
       "      <td>29.000000</td>\n",
       "      <td>-999.000000</td>\n",
       "      <td>-11.699344</td>\n",
       "      <td>-0.288422</td>\n",
       "      <td>0.000000</td>\n",
       "      <td>0.000000</td>\n",
       "      <td>0.000000</td>\n",
       "    </tr>\n",
       "    <tr>\n",
       "      <th>25%</th>\n",
       "      <td>0.000000</td>\n",
       "      <td>54.000000</td>\n",
       "      <td>91.802997</td>\n",
       "      <td>1.117443</td>\n",
       "      <td>-0.134452</td>\n",
       "      <td>0.000000</td>\n",
       "      <td>0.000000</td>\n",
       "      <td>0.000000</td>\n",
       "    </tr>\n",
       "    <tr>\n",
       "      <th>50%</th>\n",
       "      <td>1.000000</td>\n",
       "      <td>60.000000</td>\n",
       "      <td>99.814330</td>\n",
       "      <td>3.991237</td>\n",
       "      <td>-0.027296</td>\n",
       "      <td>1.000000</td>\n",
       "      <td>1.000000</td>\n",
       "      <td>1.000000</td>\n",
       "    </tr>\n",
       "    <tr>\n",
       "      <th>75%</th>\n",
       "      <td>1.000000</td>\n",
       "      <td>65.000000</td>\n",
       "      <td>110.095869</td>\n",
       "      <td>6.784449</td>\n",
       "      <td>0.101578</td>\n",
       "      <td>1.000000</td>\n",
       "      <td>1.000000</td>\n",
       "      <td>1.000000</td>\n",
       "    </tr>\n",
       "    <tr>\n",
       "      <th>max</th>\n",
       "      <td>1.000000</td>\n",
       "      <td>93.000000</td>\n",
       "      <td>157.471226</td>\n",
       "      <td>21.386412</td>\n",
       "      <td>0.740719</td>\n",
       "      <td>1.000000</td>\n",
       "      <td>1.000000</td>\n",
       "      <td>1.000000</td>\n",
       "    </tr>\n",
       "  </tbody>\n",
       "</table>\n",
       "</div>"
      ],
      "text/plain": [
       "         treatment          age  blood_pressure        TestA        TestB  \\\n",
       "count  7500.000000  7500.000000     7500.000000  7500.000000  7500.000000   \n",
       "mean      0.552533    59.978000      101.023910     3.983448    -0.000590   \n",
       "std       0.497266     8.100115       36.128945     4.162343     0.171500   \n",
       "min       0.000000    29.000000     -999.000000   -11.699344    -0.288422   \n",
       "25%       0.000000    54.000000       91.802997     1.117443    -0.134452   \n",
       "50%       1.000000    60.000000       99.814330     3.991237    -0.027296   \n",
       "75%       1.000000    65.000000      110.095869     6.784449     0.101578   \n",
       "max       1.000000    93.000000      157.471226    21.386412     0.740719   \n",
       "\n",
       "             GeneD        GeneE        GeneF  \n",
       "count  7500.000000  7500.000000  7500.000000  \n",
       "mean      0.549467     0.550667     0.551200  \n",
       "std       0.497580     0.497459     0.497405  \n",
       "min       0.000000     0.000000     0.000000  \n",
       "25%       0.000000     0.000000     0.000000  \n",
       "50%       1.000000     1.000000     1.000000  \n",
       "75%       1.000000     1.000000     1.000000  \n",
       "max       1.000000     1.000000     1.000000  "
      ]
     },
     "execution_count": 8,
     "metadata": {},
     "output_type": "execute_result"
    }
   ],
   "source": [
    "df.describe()"
   ]
  },
  {
   "cell_type": "code",
   "execution_count": 17,
   "id": "strong-letters",
   "metadata": {},
   "outputs": [
    {
     "data": {
      "text/plain": [
       "1    4144\n",
       "0    3356\n",
       "Name: treatment, dtype: int64"
      ]
     },
     "execution_count": 17,
     "metadata": {},
     "output_type": "execute_result"
    }
   ],
   "source": [
    "## class proportions\n",
    "df['treatment'].value_counts()"
   ]
  },
  {
   "cell_type": "code",
   "execution_count": 18,
   "id": "acting-insight",
   "metadata": {},
   "outputs": [
    {
     "data": {
      "text/plain": [
       "treatment            0\n",
       "age                  0\n",
       "blood_pressure       0\n",
       "gender               0\n",
       "blood_test           0\n",
       "family_history    2607\n",
       "TestA                0\n",
       "TestB                0\n",
       "GeneC                0\n",
       "GeneD                0\n",
       "GeneE                0\n",
       "GeneF                0\n",
       "dtype: int64"
      ]
     },
     "execution_count": 18,
     "metadata": {},
     "output_type": "execute_result"
    }
   ],
   "source": [
    "## check for missing vals\n",
    "df.isnull().sum()"
   ]
  },
  {
   "cell_type": "markdown",
   "id": "piano-bidding",
   "metadata": {},
   "source": [
    "## Data preparation\n",
    "1. Clean data: fill nans and remove outliers\n",
    "2. Feature engineering: transform data, scale data, encode categorical vars, etc"
   ]
  },
  {
   "cell_type": "code",
   "execution_count": null,
   "id": "exceptional-combining",
   "metadata": {},
   "outputs": [],
   "source": []
  }
 ],
 "metadata": {
  "kernelspec": {
   "display_name": "Python 3",
   "language": "python",
   "name": "python3"
  },
  "language_info": {
   "codemirror_mode": {
    "name": "ipython",
    "version": 3
   },
   "file_extension": ".py",
   "mimetype": "text/x-python",
   "name": "python",
   "nbconvert_exporter": "python",
   "pygments_lexer": "ipython3",
   "version": "3.7.9"
  }
 },
 "nbformat": 4,
 "nbformat_minor": 5
}
